{
 "cells": [
  {
   "cell_type": "markdown",
   "id": "4e5c9e69",
   "metadata": {},
   "source": [
    "# Limpieza del csv olist_order_customer_dataset"
   ]
  },
  {
   "cell_type": "code",
   "execution_count": 576,
   "id": "87637f29",
   "metadata": {},
   "outputs": [],
   "source": [
    "# imports\n",
    "import pandas as pd"
   ]
  },
  {
   "cell_type": "code",
   "execution_count": 577,
   "id": "bf9bd88f",
   "metadata": {},
   "outputs": [
    {
     "data": {
      "text/html": [
       "<div>\n",
       "<style scoped>\n",
       "    .dataframe tbody tr th:only-of-type {\n",
       "        vertical-align: middle;\n",
       "    }\n",
       "\n",
       "    .dataframe tbody tr th {\n",
       "        vertical-align: top;\n",
       "    }\n",
       "\n",
       "    .dataframe thead th {\n",
       "        text-align: right;\n",
       "    }\n",
       "</style>\n",
       "<table border=\"1\" class=\"dataframe\">\n",
       "  <thead>\n",
       "    <tr style=\"text-align: right;\">\n",
       "      <th></th>\n",
       "      <th>customer_id</th>\n",
       "      <th>customer_unique_id</th>\n",
       "      <th>customer_zip_code_prefix</th>\n",
       "      <th>customer_city</th>\n",
       "      <th>customer_state</th>\n",
       "    </tr>\n",
       "  </thead>\n",
       "  <tbody>\n",
       "    <tr>\n",
       "      <th>0</th>\n",
       "      <td>06b8999e2fba1a1fbc88172c00ba8bc7</td>\n",
       "      <td>861eff4711a542e4b93843c6dd7febb0</td>\n",
       "      <td>14409</td>\n",
       "      <td>franca</td>\n",
       "      <td>SP</td>\n",
       "    </tr>\n",
       "    <tr>\n",
       "      <th>1</th>\n",
       "      <td>18955e83d337fd6b2def6b18a428ac77</td>\n",
       "      <td>290c77bc529b7ac935b93aa66c333dc3</td>\n",
       "      <td>9790</td>\n",
       "      <td>sao bernardo do campo</td>\n",
       "      <td>SP</td>\n",
       "    </tr>\n",
       "    <tr>\n",
       "      <th>2</th>\n",
       "      <td>4e7b3e00288586ebd08712fdd0374a03</td>\n",
       "      <td>060e732b5b29e8181a18229c7b0b2b5e</td>\n",
       "      <td>1151</td>\n",
       "      <td>sao paulo</td>\n",
       "      <td>SP</td>\n",
       "    </tr>\n",
       "    <tr>\n",
       "      <th>3</th>\n",
       "      <td>b2b6027bc5c5109e529d4dc6358b12c3</td>\n",
       "      <td>259dac757896d24d7702b9acbbff3f3c</td>\n",
       "      <td>8775</td>\n",
       "      <td>mogi das cruzes</td>\n",
       "      <td>SP</td>\n",
       "    </tr>\n",
       "    <tr>\n",
       "      <th>4</th>\n",
       "      <td>4f2d8ab171c80ec8364f7c12e35b23ad</td>\n",
       "      <td>345ecd01c38d18a9036ed96c73b8d066</td>\n",
       "      <td>13056</td>\n",
       "      <td>campinas</td>\n",
       "      <td>SP</td>\n",
       "    </tr>\n",
       "    <tr>\n",
       "      <th>...</th>\n",
       "      <td>...</td>\n",
       "      <td>...</td>\n",
       "      <td>...</td>\n",
       "      <td>...</td>\n",
       "      <td>...</td>\n",
       "    </tr>\n",
       "    <tr>\n",
       "      <th>99436</th>\n",
       "      <td>17ddf5dd5d51696bb3d7c6291687be6f</td>\n",
       "      <td>1a29b476fee25c95fbafc67c5ac95cf8</td>\n",
       "      <td>3937</td>\n",
       "      <td>sao paulo</td>\n",
       "      <td>SP</td>\n",
       "    </tr>\n",
       "    <tr>\n",
       "      <th>99437</th>\n",
       "      <td>e7b71a9017aa05c9a7fd292d714858e8</td>\n",
       "      <td>d52a67c98be1cf6a5c84435bd38d095d</td>\n",
       "      <td>6764</td>\n",
       "      <td>taboao da serra</td>\n",
       "      <td>SP</td>\n",
       "    </tr>\n",
       "    <tr>\n",
       "      <th>99438</th>\n",
       "      <td>5e28dfe12db7fb50a4b2f691faecea5e</td>\n",
       "      <td>e9f50caf99f032f0bf3c55141f019d99</td>\n",
       "      <td>60115</td>\n",
       "      <td>fortaleza</td>\n",
       "      <td>CE</td>\n",
       "    </tr>\n",
       "    <tr>\n",
       "      <th>99439</th>\n",
       "      <td>56b18e2166679b8a959d72dd06da27f9</td>\n",
       "      <td>73c2643a0a458b49f58cea58833b192e</td>\n",
       "      <td>92120</td>\n",
       "      <td>canoas</td>\n",
       "      <td>RS</td>\n",
       "    </tr>\n",
       "    <tr>\n",
       "      <th>99440</th>\n",
       "      <td>274fa6071e5e17fe303b9748641082c8</td>\n",
       "      <td>84732c5050c01db9b23e19ba39899398</td>\n",
       "      <td>6703</td>\n",
       "      <td>cotia</td>\n",
       "      <td>SP</td>\n",
       "    </tr>\n",
       "  </tbody>\n",
       "</table>\n",
       "<p>99441 rows × 5 columns</p>\n",
       "</div>"
      ],
      "text/plain": [
       "                            customer_id                customer_unique_id  \\\n",
       "0      06b8999e2fba1a1fbc88172c00ba8bc7  861eff4711a542e4b93843c6dd7febb0   \n",
       "1      18955e83d337fd6b2def6b18a428ac77  290c77bc529b7ac935b93aa66c333dc3   \n",
       "2      4e7b3e00288586ebd08712fdd0374a03  060e732b5b29e8181a18229c7b0b2b5e   \n",
       "3      b2b6027bc5c5109e529d4dc6358b12c3  259dac757896d24d7702b9acbbff3f3c   \n",
       "4      4f2d8ab171c80ec8364f7c12e35b23ad  345ecd01c38d18a9036ed96c73b8d066   \n",
       "...                                 ...                               ...   \n",
       "99436  17ddf5dd5d51696bb3d7c6291687be6f  1a29b476fee25c95fbafc67c5ac95cf8   \n",
       "99437  e7b71a9017aa05c9a7fd292d714858e8  d52a67c98be1cf6a5c84435bd38d095d   \n",
       "99438  5e28dfe12db7fb50a4b2f691faecea5e  e9f50caf99f032f0bf3c55141f019d99   \n",
       "99439  56b18e2166679b8a959d72dd06da27f9  73c2643a0a458b49f58cea58833b192e   \n",
       "99440  274fa6071e5e17fe303b9748641082c8  84732c5050c01db9b23e19ba39899398   \n",
       "\n",
       "       customer_zip_code_prefix          customer_city customer_state  \n",
       "0                         14409                 franca             SP  \n",
       "1                          9790  sao bernardo do campo             SP  \n",
       "2                          1151              sao paulo             SP  \n",
       "3                          8775        mogi das cruzes             SP  \n",
       "4                         13056               campinas             SP  \n",
       "...                         ...                    ...            ...  \n",
       "99436                      3937              sao paulo             SP  \n",
       "99437                      6764        taboao da serra             SP  \n",
       "99438                     60115              fortaleza             CE  \n",
       "99439                     92120                 canoas             RS  \n",
       "99440                      6703                  cotia             SP  \n",
       "\n",
       "[99441 rows x 5 columns]"
      ]
     },
     "execution_count": 577,
     "metadata": {},
     "output_type": "execute_result"
    }
   ],
   "source": [
    "# Obtención del csv olist_order_customer_dataset\n",
    "olist_order_customer = pd.read_csv ('../datasets/olist_customers_dataset.csv')\n",
    "olist_order_customer"
   ]
  },
  {
   "cell_type": "code",
   "execution_count": 578,
   "id": "c3e7659e",
   "metadata": {},
   "outputs": [
    {
     "data": {
      "text/plain": [
       "customer_id                 object\n",
       "customer_unique_id          object\n",
       "customer_zip_code_prefix     int64\n",
       "customer_city               object\n",
       "customer_state              object\n",
       "dtype: object"
      ]
     },
     "execution_count": 578,
     "metadata": {},
     "output_type": "execute_result"
    }
   ],
   "source": [
    "# Comprobar tipos de datos\n",
    "olist_order_customer.dtypes"
   ]
  },
  {
   "cell_type": "code",
   "execution_count": 579,
   "id": "f43cd639",
   "metadata": {},
   "outputs": [],
   "source": [
    "# Pasar a categórica customer_state\n",
    "olist_order_customer['customer_state'] = olist_order_customer['customer_state'].astype('category')"
   ]
  },
  {
   "cell_type": "code",
   "execution_count": 580,
   "id": "8bae6b86",
   "metadata": {},
   "outputs": [
    {
     "data": {
      "text/plain": [
       "customer_id                   object\n",
       "customer_unique_id            object\n",
       "customer_zip_code_prefix       int64\n",
       "customer_city                 object\n",
       "customer_state              category\n",
       "dtype: object"
      ]
     },
     "execution_count": 580,
     "metadata": {},
     "output_type": "execute_result"
    }
   ],
   "source": [
    "# Comprobar si se ha cambiado a categórica\n",
    "olist_order_customer.dtypes"
   ]
  },
  {
   "cell_type": "code",
   "execution_count": 581,
   "id": "1fae1915",
   "metadata": {},
   "outputs": [
    {
     "data": {
      "text/plain": [
       "customer_id                 0\n",
       "customer_unique_id          0\n",
       "customer_zip_code_prefix    0\n",
       "customer_city               0\n",
       "customer_state              0\n",
       "dtype: int64"
      ]
     },
     "execution_count": 581,
     "metadata": {},
     "output_type": "execute_result"
    }
   ],
   "source": [
    "# Comprobar nulos\n",
    "olist_order_customer.isnull().sum()"
   ]
  },
  {
   "cell_type": "code",
   "execution_count": 582,
   "id": "9c8746b9",
   "metadata": {},
   "outputs": [
    {
     "data": {
      "text/plain": [
       "0                       franca\n",
       "1        sao bernardo do campo\n",
       "2                    sao paulo\n",
       "3              mogi das cruzes\n",
       "4                     campinas\n",
       "                 ...          \n",
       "99436                sao paulo\n",
       "99437          taboao da serra\n",
       "99438                fortaleza\n",
       "99439                   canoas\n",
       "99440                    cotia\n",
       "Name: customer_city, Length: 99441, dtype: object"
      ]
     },
     "execution_count": 582,
     "metadata": {},
     "output_type": "execute_result"
    }
   ],
   "source": [
    "# Quitar tildes\n",
    "olist_order_customer['customer_city'].str.normalize('NFKD').str.encode('ascii', errors='ignore').str.decode('utf-8')"
   ]
  },
  {
   "cell_type": "code",
   "execution_count": 583,
   "id": "6d410611",
   "metadata": {},
   "outputs": [
    {
     "data": {
      "text/plain": [
       "0"
      ]
     },
     "execution_count": 583,
     "metadata": {},
     "output_type": "execute_result"
    }
   ],
   "source": [
    "# Comprobar filas duplicadas\n",
    "olist_order_customer.duplicated().sum()"
   ]
  },
  {
   "cell_type": "code",
   "execution_count": 584,
   "id": "631a9d34",
   "metadata": {},
   "outputs": [
    {
     "name": "stdout",
     "output_type": "stream",
     "text": [
      "['abadia dos dourados', 'abadiania', 'abaete', 'abaetetuba', 'abaiara', 'abaira', 'abare', 'abatia', 'abdon batista', 'abelardo luz', 'abrantes', 'abre campo', 'abreu e lima', 'acaiaca', 'acailandia', 'acajutiba', 'acarau', 'acari', 'acegua', 'acopiara', 'acreuna', 'acu', 'acucena', 'adamantina', 'adhemar de barros', 'adolfo', 'adrianopolis', 'adustina', 'afogados da ingazeira', 'afonso claudio', 'afranio', 'agisse', 'agrestina', 'agrolandia', 'agronomica', 'agua boa', 'agua branca', 'agua clara', 'agua comprida', 'agua doce', 'agua doce do norte', 'agua fria de goias', 'agua limpa', 'agua nova', 'agua preta', 'agua santa', 'aguai', 'aguas belas', 'aguas claras', 'aguas da prata', 'aguas de lindoia', 'aguas de santa barbara', 'aguas de sao pedro', 'aguas formosas', 'aguas frias', 'aguas lindas de goias', 'aguas mornas', 'aguas vermelhas', 'agudo', 'agudos', 'aguia branca', 'aimores', 'aiuaba', 'aiuruoca', 'ajapi', 'ajuricaba', 'alagoa', 'alagoa grande', 'alagoa nova', 'alagoinha', 'alagoinhas', 'alambari', 'alcantara', 'alcinopolis', 'alcobaca', 'alegre', 'alegrete', 'alegrete do piaui', 'alegria', 'alem paraiba', 'alexandra', 'alexandria', 'alexandrita', 'alexania', 'alfenas', 'alfredo chaves', 'alfredo marcondes', 'alfredo vasconcelos', 'alfredo wagner', 'alhandra', 'alianca', 'alianca do tocantins', 'almas', 'almenara', 'almino afonso', 'almirante tamandare', 'almirante tamandare do sul', 'alpercata', 'alpestre', 'alpinopolis', 'alta floresta', \"alta floresta d'oeste\", 'altamira', 'altamira do parana', 'altaneira', 'alterosa', 'altinho', 'altinopolis', 'alto alegre', 'alto alegre do iguacu', 'alto alegre do maranhao', 'alto alegre do pindare', 'alto araguaia', 'alto bela vista', 'alto boa vista', 'alto caparao', 'alto do rodrigues', 'alto garcas', 'alto horizonte', 'alto jequitiba', 'alto paraiso', 'alto paraiso de goias', 'alto parana', 'alto parnaiba', 'alto piquiri', 'alto rio doce', 'alto rio novo', 'alto santo', 'alto sao joao', 'alto taquari', 'altonia', 'altos', 'aluminio', 'alvarenga', 'alvares florence', 'alvares machado', 'alvaro de carvalho', 'alvinopolis', 'alvorada', \"alvorada d'oeste\", 'alvorada do gurgueia', 'alvorada do norte', 'amambai', 'amanari', 'amapa do maranhao', 'amapora', 'amaraji', 'amarante', 'amargosa', 'amelia rodrigues', 'america dourada', 'americana', 'americano do brasil', 'americo brasiliense', 'americo de campos', 'ametista do sul', 'amontada', 'amparo', 'amparo da serra', 'ampere', 'anadia', 'anage', 'analandia', 'ananas', 'ananindeua', 'anapolis', 'anastacio', 'anaurilandia', 'anchieta', 'andarai', 'andira', 'andorinha', 'andradas', 'andradina', 'andre da rocha', 'andrelandia', 'andrequice', 'angatuba', 'angelica', 'angelina', 'angelo frechiani', 'angical', 'angical do piaui', 'angicos', 'angra dos reis', 'anguera', 'angulo', 'angustura', 'anhandui', 'anhembi', 'anhumas', 'anicuns', 'anita garibaldi', 'anitapolis', 'anta', 'anta gorda', 'antonina', 'antonina do norte', 'antonio cardoso', 'antonio carlos', 'antonio goncalves', 'antonio martins', 'antonio pereira', 'antonio prado', 'antonio prado de minas', 'antunes', 'aparecida', \"aparecida d'oeste\", 'aparecida de goiania', 'aparecida de monte alto', 'aparecida de sao manuel', 'aparecida do rio negro', 'aparecida do taboado', 'aperibe', 'apiaca', 'apiacas', 'apiai', 'apiuna', 'apodi', 'apora', 'apore', 'apuarema', 'apucarana', 'apuiares', 'aquidaba', 'aquidauana', 'aquiraz', 'aracaju', 'aracariguama', 'aracati', 'aracatu', 'aracatuba', 'arace', 'araci', 'aracitaba', 'aracoiaba', 'aracoiaba da serra', 'aracruz', 'aracuai', 'aragarcas', 'aragoiania', 'araguacu', 'araguaia', 'araguaina', 'araguana', 'araguapaz', 'araguari', 'araguatins', 'aramari', 'arame', 'aramina', 'arandu', 'arantina', 'arapei', 'arapiraca', 'arapoema', 'araponga', 'arapongas', 'arapora', 'arapoti', 'arapua', 'araputanga', 'araquari', 'arara', 'ararangua', 'araraquara', 'araras', 'arari', 'ararica', 'araripe', 'araripina', 'araruama', 'araruna', 'arataca', 'aratiba', 'aratuba', 'araucaria', 'araujos', 'araxa', 'arceburgo', 'arcos', 'arcoverde', 'areado', 'areal', 'arealva', 'areia', 'areia branca', 'areia branca dos assis', 'areial', 'areias', 'areiopolis', 'arembepe', 'arenapolis', 'arenopolis', 'aribice', 'arinos', 'aripuana', 'ariquemes', 'ariranha', 'armacao dos buzios', 'armazem', 'arneiroz', 'aroeiras', 'arraial d ajuda', \"arraial d'ajuda\", 'arraial do cabo', 'arraias', 'arroio do meio', 'arroio do sal', 'arroio do tigre', 'arroio dos ratos', 'arroio grande', 'arroio trinta', 'arrozal', 'artur nogueira', 'aruana', 'aruja', 'arvoredo', 'arvorezinha', 'ascurra', 'assai', 'assare', 'assis', 'assis chateaubriand', 'assuncao', 'astolfo dutra', 'astorga', 'atalaia', 'atalanta', 'ataleia', 'atibaia', 'atilio vivacqua', 'augustinopolis', 'augusto correa', 'augusto pestana', 'aurea', 'auriflama', 'aurilandia', 'aurora', 'aurora do para', 'avai', 'avanhandava', 'avare', 'avelar', 'avelino lopes', 'azurita', 'bacabal', 'bacaxa', 'bacuri', 'bady bassitt', 'baependi', 'bage', 'baguari', 'baianopolis', 'baixa grande', 'baixa grande do ribeiro', 'baixo guandu', 'balbinos', 'baldim', 'balneario arroio do silva', 'balneario barra do sul', 'balneario camboriu', 'balneario gaivota', 'balneario picarras', 'balneario pinhal', 'balneario rincao', 'balsa nova', 'balsamo', 'balsas', 'bambui', 'banabuiu', 'bananal', 'bananeiras', 'bandeira', 'bandeira do sul', 'bandeirantes', \"bandeirantes d'oeste\", 'bandeirantes do tocantins', 'banzae', 'barao', 'barao ataliba nogueira', 'barao de cocais', 'barao de cotegipe', 'barao de juparana', 'barao do triunfo', 'barauna', 'barbacena', 'barbalha', 'barbosa ferraz', 'barcarena', 'bariri', 'barra', 'barra bonita', 'barra da estiva', 'barra de guabiraba', 'barra de santa rosa', 'barra de santo antonio', 'barra de sao francisco', 'barra de sao joao', 'barra de sao miguel', 'barra do bugres', 'barra do choca', 'barra do corda', 'barra do garcas', 'barra do jacare', 'barra do mendes', 'barra do pirai', 'barra do ribeiro', 'barra do rio azul', 'barra do tarrachil', 'barra do turvo', 'barra dos coqueiros', 'barra longa', 'barra mansa', 'barra velha', 'barracao', 'barras', 'barreira', 'barreiras', 'barreirinhas', 'barreiros', 'barretos', 'barrinha', 'barro', 'barro alto', 'barro preto', 'barrocas', 'barrolandia', 'barros cassal', 'barroso', 'barueri', 'bastos', 'bataguassu', 'bataipora', 'batalha', 'batatais', 'bataypora', 'baturite', 'bauru', 'bayeux', 'bebedouro', 'beberibe', 'bela cruz', 'bela vista', 'bela vista de goias', 'bela vista de minas', 'bela vista do maranhao', 'bela vista do paraiso', 'belem', 'belem do sao francisco', 'belford roxo', 'belmonte', 'belo campo', 'belo horizonte', 'belo jardim', 'belo oriente', 'belo vale', 'bemposta', 'benedito leite', 'benedito novo', 'benevides', 'bento de abreu', 'bento goncalves', 'bequimao', 'berilo', 'berizal', 'bernardino de campos', 'bertioga', 'bertolinia', 'bertopolis', 'betim', 'bezerros', 'bias fortes', 'bicas', 'biguacu', 'bilac', 'birigui', 'biritiba-mirim', 'biritinga', 'bituruna', 'blumenau', 'boa esperanca', 'boa esperanca do iguacu', 'boa esperanca do sul', 'boa ventura', 'boa viagem', 'boa vista', 'boa vista da aparecida', 'boa vista das missoes', 'boa vista do burica', 'boa vista do cadeado', 'boa vista do gurupi', 'boa vista do sul', 'boca da mata', 'bocaina', 'bocaiuva', 'bocaiuva do sul', 'bodo', 'bodoco', 'bodoquena', 'bofete', 'boituva', 'bom conselho', 'bom despacho', 'bom jardim', 'bom jardim de goias', 'bom jardim de minas', 'bom jesus', 'bom jesus da lapa', 'bom jesus da penha', 'bom jesus da serra', 'bom jesus das selvas', 'bom jesus do amparo', 'bom jesus do araguaia', 'bom jesus do galho', 'bom jesus do itabapoana', 'bom jesus do norte', 'bom jesus do querendo', 'bom jesus do sul', 'bom jesus do tocantins', 'bom jesus dos perdoes', 'bom principio', 'bom repouso', 'bom retiro', 'bom retiro do sul', 'bom sucesso', 'bombinhas', 'bonfim', 'bonfim paulista', 'bonfinopolis', 'bonfinopolis de minas', 'boninal', 'bonito', 'bonito de minas', 'bonito de santa fe', 'boqueirao do leao', 'boquim', 'boquira', 'bora', 'boraceia', 'borborema', 'borda da mata', 'borrazopolis', 'bossoroca', 'botelho', 'botelhos', 'botucatu', 'botupora', 'botuvera', 'braco do norte', 'braco do rio', 'braganca', 'braganca paulista', 'bras pires', 'brasil novo', 'brasilandia', 'brasilandia de minas', 'brasileia', 'brasilia', 'brasilia de minas', 'brasopolis', 'brauna', 'braunas', 'brazabrantes', 'brazopolis', 'brejetuba', 'brejo', 'brejo bonito', 'brejo da madre de deus', 'brejo do cruz', 'brejo dos santos', 'brejo grande', 'brejo santo', 'brejoes', 'brejolandia', 'breu branco', 'breves', 'britania', 'brodowski', 'brotas', 'brotas de macaubas', 'brumadinho', 'brumado', 'brusque', 'bueno brandao', 'buenopolis', 'buenos aires', 'buerarema', 'bugre', 'buique', 'buri', 'buritama', 'buriti', 'buriti alegre', 'buriti do tocantins', 'buriti dos lopes', 'buriticupu', 'buritirama', 'buritis', 'buritizal', 'buritizeiro', 'butia', 'caarapo', 'cabaceiras do paraguacu', 'cabeceira grande', 'cabeceiras', 'cabedelo', 'cabixi', 'cabo de santo agostinho', 'cabo frio', 'cabo verde', 'cabralia paulista', 'cabreuva', 'cabrobo', 'cacador', 'cacapava', 'cacapava do sul', 'cacaulandia', 'cacequi', 'caceres', 'cachoeira', 'cachoeira alta', 'cachoeira da prata', 'cachoeira de minas', 'cachoeira de pajeu', 'cachoeira do brumado', 'cachoeira do campo', 'cachoeira do sul', 'cachoeira dourada', 'cachoeira paulista', 'cachoeiras de macacu', 'cachoeirinha', 'cachoeiro de itapemirim', 'cacimbinhas', 'cacoal', 'caconde', 'cacu', 'cacule', 'caem', 'caetanopolis', 'caetanos', 'caete', 'caetes', 'caetite', 'cafeara', 'cafelandia', 'caiana', 'caiaponia', 'caibate', 'caibi', 'caicara do norte', 'caico', 'caieiras', 'cairu', 'caiua', 'cajamar', 'cajapio', 'cajari', 'cajati', 'cajazeiras', 'cajobi', 'cajueiro', 'cajuri', 'cajuru', 'calcado', 'caldas', 'caldas brandao', 'caldas do jorro', 'caldas novas', 'caldeirao grande', 'caldeirao grande do piaui', 'california', 'california da barra', 'calmon', 'camacan', 'camacari', 'camacho', 'camamu', 'camanducaia', 'camapua', 'camaqua', 'camaragibe', 'cambara', 'cambara do sul', 'cambe', 'cambiasca', 'cambira', 'camboriu', 'cambuci', 'cambui', 'cambuquira', 'cameta', 'camocim', 'camocim de sao felix', 'campanario', 'campanha', 'campestre', 'campestre da serra', 'campestre do maranhao', 'campina da lagoa', 'campina das missoes', 'campina do monte alegre', 'campina grande', 'campina grande do sul', 'campina verde', 'campinacu', 'campinapolis', 'campinas', 'campinas do sul', 'campinorte', 'campo alegre', 'campo alegre de goias', 'campo alegre de lourdes', 'campo alegre de minas', 'campo alegre do fidalgo', 'campo azul', 'campo belo', 'campo bom', 'campo bonito', 'campo do brito', 'campo do meio', 'campo do tenente', 'campo ere', 'campo florido', 'campo formoso', 'campo grande', 'campo grande do piaui', 'campo largo', 'campo limpo paulista', 'campo magro', 'campo maior', 'campo mourao', 'campo novo', 'campo novo do parecis', 'campo verde', 'campos altos', 'campos belos', 'campos borges', 'campos de julio', 'campos do jordao', 'campos dos goytacazes', 'campos gerais', 'campos novos', 'campos sales', 'campos verdes', 'camutanga', 'canaa', 'canaa dos carajas', 'cananeia', 'canapi', 'canapolis', 'canarana', 'canavieiras', 'candeal', 'candeias', 'candeias do jamari', 'candelaria', 'candido de abreu', 'candido godoi', 'candido mendes', 'candido mota', 'candido rodrigues', 'candido sales', 'candiota', 'candoi', 'canela', 'canelinha', 'cangucu', 'canhotinho', 'caninde', 'caninde de sao francisco', 'canitar', 'canoas', 'canoinhas', 'cansancao', 'cantagalo', 'cantanhede', 'canto do buriti', 'canudos', 'capanema', 'capao bonito', 'capao da canoa', 'capao da porteira', 'capao do cipo', 'capao do leao', 'caparao', 'capela', 'capela de santana', 'capela do alto', 'capela do alto alegre', 'capela nova', 'capelinha', 'capetinga', 'capim branco', 'capim grosso', 'capinopolis', 'capinzal', 'capinzal do norte', 'capistrano', 'capitao', 'capitao andrade', 'capitao eneas', 'capitao leonidas marques', 'capitao poco', 'capitolio', 'capivari', 'capivari de baixo', 'capivari do sul', 'capoeiras', 'caputira', 'caracol', 'caraguatatuba', 'carai', 'caraiba', 'caraibas', 'carajas', 'carambei', 'carandai', 'carangola', 'carapebus', 'carapicuiba', 'caratinga', 'caraubas', 'caravelas', 'carazinho', 'carbonita', 'cardoso', 'cardoso moreira', 'careacu', 'cariacica', 'caridade', 'carinhanha', 'carire', 'cariri do tocantins', 'caririacu', 'carius', 'carlinda', 'carlopolis', 'carlos barbosa', 'carlos chagas', 'carmesia', 'carmo', 'carmo da cachoeira', 'carmo da mata', 'carmo de minas', 'carmo do cajuru', 'carmo do paranaiba', 'carmo do rio claro', 'carmo do rio verde', 'carmolandia', 'carmopolis', 'carmopolis de minas', 'carnaiba do sertao', 'carnauba dos dantas', 'carnaubais', 'carnaubal', 'carneirinho', 'carolina', 'carpina', 'carrancas', 'caruaru', 'carutapera', 'carvalhopolis', 'casa branca', 'casa nova', 'casca', 'cascalho rico', 'cascavel', 'caseiros', 'casimiro de abreu', 'cassia', 'cassia dos coqueiros', 'cassilandia', 'castanhal', 'castanheira', 'castanheiras', 'castelandia', 'castelo', 'castelo do piaui', 'castilho', 'castro', 'castro alves', 'cataguases', 'catalao', 'catanduva', 'catanduvas', 'catarina', 'catas altas', 'catende', 'catigua', 'catole do rocha', 'catu', 'catu de abrantes', 'catuipe', 'caturama', 'caucaia', 'cavalcante', 'caxambu', 'caxambu do sul', 'caxias', 'caxias do sul', 'caxingo', 'ceara-mirim', 'cedral', 'cedro', 'cedro de sao joao', 'cedro do abaete', 'ceilandia', 'celina', 'celso ramos', 'centenario', 'centenario do sul', 'central', 'central de santa helena', 'centralina', 'centro novo do maranhao', 'cerejeiras', 'ceres', 'cerqueira cesar', 'cerquilho', 'cerrito', 'cerro azul', 'cerro grande', 'cerro grande do sul', 'cerro largo', 'cerro negro', 'cesario lange', 'ceu azul', 'cezarina', 'cha de alegria', 'cha grande', 'chacara', 'chale', 'chapada', 'chapada do norte', 'chapada dos guimaraes', 'chapada gaucha', 'chapadao do ceu', 'chapadao do lageado', 'chapadao do sul', 'chapadinha', 'chapeco', 'charqueada', 'charqueadas', 'charrua', 'chaval', 'chavantes', 'chaveslandia', 'chiapetta', 'chopinzinho', 'chorozinho', 'chorrocho', 'chui', 'cianorte', 'cicero dantas', 'cidade gaucha', 'cidade ocidental', 'cidelandia', 'cidreira', 'cipo', 'cipo-guacu', 'ciriaco', 'claraval', 'claro dos pocoes', 'claudia', 'claudio', 'clementina', 'clevelandia', 'coaraci', 'coari', 'cocais', 'cocal', 'cocal do sul', 'cocalinho', 'cocalzinho de goias', 'cocos', 'codo', 'coelho neto', 'coimbra', 'coite do noia', 'colatina', 'colider', 'colina', 'colinas', 'colinas do tocantins', 'colmeia', 'colniza', 'colombia', 'colombo', 'colonia castrolanda', 'colonia jordaozinho', 'colonia leopoldina', 'colonia vitoria', 'colorado', 'colorado do oeste', 'coluna', 'combinado', 'comendador levy gasparian', 'comercinho', 'comodoro', 'conceicao', 'conceicao da aparecida', 'conceicao da barra', 'conceicao da feira', 'conceicao da ibitipoca', 'conceicao das alagoas', 'conceicao das pedras', 'conceicao de macabu', 'conceicao do almeida', 'conceicao do araguaia', 'conceicao do caninde', 'conceicao do castelo', 'conceicao do coite', 'conceicao do formoso', 'conceicao do jacuipe', 'conceicao do mato dentro', 'conceicao do para', 'conceicao do rio verde', 'conceicao do tocantins', 'conceicao dos ouros', 'conchal', 'conchas', 'concordia', 'concordia do para', 'condado', 'conde', 'condeuba', 'condor', 'confins', 'confresa', 'congonhal', 'congonhas', 'congonhinhas', 'conquista', \"conquista d'oeste\", 'conrado', 'conselheiro lafaiete', 'conselheiro mairinck', 'conselheiro pena', 'conservatoria', 'constantina', 'contagem', 'contenda', 'coqueiro baixo', 'coqueiros do sul', 'coracao de jesus', 'coracao de maria', 'corbelia', 'cordeiro', 'cordeiropolis', 'cordeiros', 'coreau', 'coremas', 'corguinho', 'coribe', 'corinto', 'cornelio procopio', 'coroaci', 'coroados', 'coroata', 'coromandel', 'coronel domingos soares', 'coronel fabriciano', 'coronel freitas', 'coronel joao pessoa', 'coronel joao sa', 'coronel macedo', 'coronel martins', 'coronel murta', 'coronel pacheco', 'coronel sapucaia', 'coronel vivida', 'corrego danta', 'corrego do ouro', 'corrego fundo', 'correia pinto', 'corrente', 'correntes', 'correntina', 'cortes', 'corumba', 'corumba de goias', 'corumbaiba', 'corumbatai', 'corumbatai do sul', 'corupa', 'coruripe', 'cosmopolis', 'cosmorama', 'costa marques', 'costa rica', 'cotegipe', 'cotia', 'cotipora', 'cotriguacu', 'couto de magalhaes', 'coxilha', 'coxim', 'crateus', 'crato', 'cravinhos', 'cravolandia', 'criciuma', 'crisolita', 'crisopolis', 'crissiumal', 'cristais', 'cristais paulista', 'cristal', 'cristalandia', 'cristalia', 'cristalina', 'cristiano otoni', 'cristina', 'cristinapolis', 'cristopolis', 'crixas', 'croata', 'crominia', 'crucilandia', 'cruz', 'cruz alta', 'cruz das almas', 'cruz machado', 'cruzalia', 'cruzeiro', 'cruzeiro da fortaleza', 'cruzeiro do iguacu', 'cruzeiro do oeste', 'cruzeiro do sul', 'cruzilia', 'cubatao', 'cubati', 'cuiaba', 'cuite', 'cuite velho', 'cujubim', 'cumari', 'cumaru', 'cunha', 'cunha pora', 'cupira', 'curaca', 'curitiba', 'curitibanos', 'curiuva', 'currais novos', 'curral de cima', 'curralinho', 'curuca', 'cururupu', 'curvelandia', 'curvelo', 'custodia', 'damianopolis', 'dario meira', 'datas', 'david canabarro', 'delfim moreira', 'delfinopolis', 'delmiro gouveia', 'demerval lobao', 'denise', 'deodapolis', 'deputado irapuan pinheiro', 'descalvado', 'descoberto', 'desembargador otoni', 'desterro', 'desterro de entre rios', 'desterro do melo', 'dezesseis de novembro', 'diadema', \"diamante d'oeste\", 'diamante do norte', 'diamantina', 'diamantino', 'dianopolis', 'dias d avila', \"dias d'avila\", 'diogo de vasconcelos', 'dionisio', 'dionisio cerqueira', 'diorama', 'divinesia', 'divino', 'divino das laranjeiras', 'divino de sao lourenco', 'divinolandia', 'divinolandia de minas', 'divinopolis', 'divinopolis de goias', 'divinopolis do tocantins', 'divisa alegre', 'divisa nova', 'dobrada', 'doce grande', 'dois corregos', 'dois irmaos', 'dois irmaos do buriti', 'dois riachos', 'dois vizinhos', 'dom aquino', 'dom basilio', 'dom cavati', 'dom eliseu', 'dom feliciano', 'dom joaquim', 'dom macedo costa', 'dom pedrito', 'dom pedro', 'dom silverio', 'dom vicoso', 'domiciano ribeiro', 'domingos martins', 'dona emma', 'dona euzebia', 'dona francisca', 'dores de campos', 'dores de guanhaes', 'dores do indaia', 'dores do rio preto', 'dormentes', 'douradina', 'dourado', 'dourados', 'doutor camargo', 'doutor mauricio cardoso', 'doutor ulysses', 'doverlandia', 'dracena', 'duartina', 'duas barras', 'duere', 'dumont', 'duque de caxias', 'durande', 'echapora', 'ecoporanga', 'edeia', 'eldorado', 'eldorado do sul', 'elias fausto', 'eliseu martins', 'elisiario', 'elisio medrado', 'eloi mendes', 'embauba', 'embu', 'embu das artes', 'embu-guacu', 'emilianopolis', 'encantado', 'encruzilhada do sul', 'eneas marques', 'engenheiro balduino', 'engenheiro beltrao', 'engenheiro coelho', 'engenheiro navarro', 'engenheiro passos', 'engenheiro paulo de frontin', 'entre folhas', 'entre rios', 'entre rios de minas', 'entre rios do oeste', 'entre-ijuis', 'epitaciolandia', 'erebango', 'erechim', 'erere', 'erico cardoso', 'erval grande', 'ervalia', 'escada', 'esmeralda', 'esmeraldas', 'espera feliz', 'esperanca', 'esperantina', 'esperantinopolis', 'espigao', 'espigao alto do iguacu', 'espigao do oeste', 'espinosa', 'espirito santo do pinhal', 'espirito santo do turvo', 'esplanada', 'espumoso', 'estacao', 'estancia', 'estancia velha', 'esteio', 'estevao de araujo', 'estiva', 'estiva gerbi', 'estreito', 'estrela', 'estrela d oeste', \"estrela d'oeste\", 'estrela do indaia', 'estrela do norte', 'estrela do sul', 'estrela velha', 'euclides da cunha', 'euclides da cunha paulista', 'eugenio de castro', 'eugenopolis', 'eunapolis', 'eusebio', 'ewbank da camara', 'extrema', 'extremoz', 'fagundes', 'farol', 'farroupilha', 'fartura', 'fatima', 'fatima do sul', 'faxinal', 'faxinal dos guedes', 'faxinalzinho', 'fazenda nova', 'fazenda rio grande', 'fazenda vilanova', 'feira de santana', 'feira nova', 'felicio dos santos', 'felipe guerra', 'felisburgo', 'felixlandia', 'feliz', 'feliz deserto', 'feliz natal', 'fenix', 'fernando prestes', 'fernandopolis', 'fernao', 'ferraz de vasconcelos', 'ferreiros', 'ferros', 'fervedouro', 'figueira', \"figueiropolis d'oeste\", 'filadelfia', 'firminopolis', 'flor da serra do sul', 'flora rica', 'florai', 'florania', 'floreal', 'flores', 'flores da cunha', 'flores de goias', 'floresta', 'floresta do araguaia', 'florestal', 'florestopolis', 'floriano', 'florianopolis', 'florida', 'florida paulista', 'florinia', 'fonseca', 'fontoura xavier', 'formiga', 'formigueiro', 'formosa', 'formosa da serra negra', 'formosa do oeste', 'formosa do rio preto', 'formoso', 'formoso do araguaia', 'forquilha', 'forquilhinha', 'fortaleza', 'fortaleza dos valos', 'fortim', 'fortuna', 'foz do iguacu', 'foz do jordao', 'fragosos', 'fraiburgo', 'franca', 'francisco badaro', 'francisco beltrao', 'francisco dantas', 'francisco dumont', 'francisco morato', 'francisco sa', 'francisco santos', 'franco da rocha', 'frecheirinha', 'frederico westphalen', 'frei gaspar', 'frei inocencio', 'frei lagonegro', 'frei martinho', 'frei rogerio', 'fronteira', 'fronteiras', 'fruta de leite', 'frutal', 'frutuoso gomes', 'fundao', 'gabriel monteiro', 'galia', 'galinhos', 'galvao', 'gameleira', 'gameleiras', 'gandu', 'garanhuns', 'garca', 'garibaldi', 'garopaba', 'garrafao do norte', 'garruchos', 'garuva', 'gaspar', 'gastao vidigal', 'gaucha do norte', 'gaurama', 'gaviao peixoto', 'general camara', 'general carneiro', 'general maynard', 'general salgado', 'gentio do ouro', 'getulina', 'getulio vargas', 'gilbues', 'girau do ponciano', 'girua', 'glaura', 'glicerio', 'gloria de dourados', 'gloria do goita', 'glorinha', 'godoy moreira', 'goiabeira', 'goiana', 'goianapolis', 'goiandira', 'goianesia', 'goianesia do para', 'goiania', 'goianinha', 'goianira', 'goianorte', 'goias', 'goiatuba', 'goioere', 'goitacazes', 'goncalves', 'goncalves dias', 'gongogi', 'gouveia', 'governador celso ramos', 'governador dix-sept rosado', 'governador eugenio barros', 'governador lindenberg', 'governador mangabeira', 'governador portela', 'governador valadares', 'graccho cardoso', 'grajau', 'gramado', 'gramado dos loureiros', 'gramado xavier', 'grandes rios', 'granja', 'grao mogol', 'grao para', 'gravata', 'gravatai', 'gravatal', 'groairas', 'grupiara', 'guabiju', 'guabiruba', 'guacui', 'guadalupe', 'guaiba', 'guaicara', 'guaira', 'guairaca', 'guaiuba', 'guajara-mirim', 'guamare', 'guamiranga', 'guanambi', 'guanhaes', 'guape', 'guapiacu', 'guapiara', 'guapimirim', 'guapirama', 'guapo', 'guapore', 'guara', 'guarabira', 'guaracai', 'guaraci', 'guaraciaba', 'guaraciaba do norte', 'guarai', 'guaramirim', 'guaranesia', 'guarani', 'guarani das missoes', 'guaraniacu', 'guaranta', 'guaranta do norte', 'guarapari', 'guarapua', 'guarapuava', 'guaraquecaba', 'guarara', 'guararapes', 'guararema', 'guaratinga', 'guaratingueta', 'guaratuba', 'guarda-mor', 'guarei', 'guariba', 'guariroba', 'guaruja', 'guaruja do sul', 'guarulhos', 'guassusse', 'guatapara', 'guaxupe', 'guia lopes da laguna', 'guidoval', 'guimaraes', 'guimarania', 'guinda', 'guiricema', 'gurupi', 'guzolandia', 'heliopolis', 'herculandia', 'herval', \"herval d'oeste\", 'herveiras', 'hidreletrica tucurui', 'hidrolandia', 'hidrolina', 'holambra', 'holambra ii', 'horizonte', 'horizontina', 'hortolandia', 'hulha negra', 'humaita', 'humberto de campos', 'humildes', 'iacanga', 'iaciara', 'iacri', 'iacu', 'iapu', 'iaras', 'iati', 'ibaiti', 'ibarama', 'ibate', 'ibateguara', 'ibatiba', 'ibema', 'ibertioga', 'ibia', 'ibiaca', 'ibiai', 'ibiajara', 'ibiam', 'ibiapina', 'ibiara', 'ibiassuce', 'ibicarai', 'ibicare', 'ibicoara', 'ibicuitinga', 'ibimirim', 'ibipeba', 'ibipitanga', 'ibipora', 'ibira', 'ibiracatu', 'ibiraci', 'ibiracu', 'ibiraiaras', 'ibiraja', 'ibirama', 'ibirapua', 'ibirarema', 'ibirataia', 'ibirite', 'ibiruba', 'ibitiara', 'ibitinga', 'ibitioca', 'ibitira', 'ibitita', 'ibitiuva', 'ibiuna', 'ibotirama', 'icapui', 'icara', 'icarai de minas', 'icaraima', 'icatu', 'icem', 'ichu', 'ico', 'iconha', 'ielmo marinho', 'iepe', 'igaci', 'igapora', 'igaracu do tiete', 'igarapava', 'igarape', 'igarape-acu', 'igarape-miri', 'igarassu', 'igarata', 'igaratinga', 'igrapiuna', 'igreja nova', 'igrejinha', 'iguaba grande', 'iguai', 'iguape', 'iguaracu', 'iguatama', 'iguatu', 'ijui', 'ilha comprida', 'ilha de itamaraca', 'ilha dos valadares', 'ilha grande', 'ilha solteira', 'ilhabela', 'ilheus', 'ilhota', 'ilicinea', 'ilopolis', 'imaculada', 'imbau', 'imbe', 'imbe de minas', 'imbituba', 'imbituva', 'imbuia', 'imigrante', 'imperatriz', 'inacio martins', 'inaciolandia', 'inaja', 'inconfidentes', 'indaial', 'indaiatuba', 'independencia', 'indiana', 'indianopolis', 'indiapora', 'indiara', 'indiaroba', 'inga', 'ingai', 'inhambupe', 'inhapi', 'inhapim', 'inhauma', 'inhuma', 'inhumas', 'inimutaba', 'inocencia', 'inubia paulista', 'iomere', 'ipaba', 'ipameri', 'ipanema', 'ipaporanga', 'ipatinga', 'ipaumirim', 'ipaussu', 'ipe', 'ipecaeta', 'ipero', 'ipiabas', 'ipiacu', 'ipiau', 'ipigua', 'ipira', 'ipiranga', 'ipiranga de goias', 'ipiranga do norte', 'ipiranga do sul', 'ipixuna do para', 'ipojuca', 'ipora', 'ipora do oeste', 'ipu', 'ipua', 'ipubi', 'ipueira', 'ipueiras', 'ipuiuna', 'ipumirim', 'ipupiara', 'iracema', 'iracemapolis', 'irai', 'irai de minas', 'iramaia', 'irani', 'irape', 'irapua', 'irapuru', 'iraquara', 'irara', 'irati', 'iraucuba', 'irece', 'iretama', 'irineopolis', 'irupi', 'isaias coelho', 'ita', 'itaara', 'itabaiana', 'itabaianinha', 'itabatan', 'itabela', 'itabera', 'itaberaba', 'itaberai', 'itabi', 'itabira', 'itabirinha', 'itabirito', 'itaborai', 'itabuna', 'itacarambi', 'itacare', 'itacoatiara', 'itacurussa', 'itagi', 'itagiba', 'itagimirim', 'itaguacu', 'itaguacu da bahia', 'itaguai', 'itaguaje', 'itaguara', 'itaguari', 'itaguaru', 'itai', 'itaicaba', 'itaiopolis', 'itaipava', 'itaipulandia', 'itaitinga', 'itaituba', 'itaja', 'itajai', 'itajobi', 'itaju', 'itaju do colonia', 'itajuba', 'itajuipe', 'italva', 'itamaraju', 'itamarandiba', 'itamari', 'itambacuri', 'itambaraca', 'itambe', 'itamira', 'itamogi', 'itamonte', 'itanhaem', 'itanhandu', 'itanhanga', 'itanhem', 'itanhomi', 'itaobim', 'itaoca', 'itaocara', 'itapaci', 'itapage', 'itapagipe', 'itapaje', 'itaparica', 'itape', 'itapecerica', 'itapecerica da serra', 'itapecuru mirim', \"itapejara d'oeste\", 'itapema', 'itapemirim', 'itaperucu', 'itaperuna', 'itapetim', 'itapetinga', 'itapetininga', 'itapeva', 'itapevi', 'itapicuru', 'itapipoca', 'itapira', 'itapiranga', 'itapirapua', 'itapirapua paulista', 'itapissuma', 'itapitanga', 'itapiuna', 'itapoa', 'itapolis', 'itapora', 'itaporanga', \"itaporanga d'ajuda\", 'itapui', 'itapura', 'itapuranga', 'itaquaquecetuba', 'itaqui', 'itaquirai', 'itaquitinga', 'itarana', 'itarantim', 'itarare', 'itarema', 'itariri', 'itatiaia', 'itatiaiucu', 'itatiba', 'itatiba do sul', 'itatim', 'itatinga', 'itau', 'itau de minas', 'itauba', 'itaueira', 'itauna', 'itinga', 'itiquira', 'itirapina', 'itirucu', 'itiuba', 'itobi', 'itororo', 'itu', 'ituacu', 'itubera', 'itueta', 'ituiutaba', 'itumbiara', 'itupeva', 'itupiranga', 'ituporanga', 'iturama', 'itutinga', 'ituverava', 'iuna', 'ivai', 'ivaipora', 'ivate', 'ivinhema', 'ivora', 'ivoti', 'jaboatao dos guararapes', 'jabora', 'jaborandi', 'jaboti', 'jaboticabal', 'jaboticatubas', 'jacaraci', 'jacarau', 'jacare', 'jacareacanga', 'jacarei', 'jacarezinho', 'jaci', 'jaciara', 'jacigua', 'jacinto', 'jacinto machado', 'jacobina', 'jacui', 'jacuipe', 'jacuizinho', 'jacunda', 'jacupiranga', 'jacutinga', 'jaguapita', 'jaguaquara', 'jaguaracu', 'jaguarao', 'jaguare', 'jaguarembe', 'jaguari', 'jaguariaiva', 'jaguaribara', 'jaguaribe', 'jaguariuna', 'jaguaruana', 'jaguaruna', 'jaiba', 'jales', 'jamaica', 'jamapara', 'jambeiro', 'jampruca', 'janauba', 'jandaia', 'jandaia do sul', 'jandaira', 'jandira', 'janduis', 'janiopolis', 'januaria', 'japaraiba', 'japaratuba', 'japeri', 'japi', 'japira', 'japoata', 'japuiba', 'japura', 'jaqueira', 'jaquirana', 'jaragua', 'jaragua do sul', 'jaraguari', 'jardim', 'jardim abc de goias', 'jardim alegre', 'jardim de piranhas', 'jardim do serido', 'jardim olinda', 'jardinopolis', 'jari', 'jarinu', 'jaru', 'jatai', 'jataizinho', 'jatauba', 'jatoba', 'jau', 'jaua', 'jaupaci', 'jauru', 'jeceaba', 'jenipapo de minas', 'jequeri', 'jequia da praia', 'jequie', 'jequitai', 'jequitiba', 'jequitinhonha', 'jeremoabo', 'jerico', 'jeriquara', 'jeronimo monteiro', 'jesuania', 'jesuitas', 'jesupolis', 'ji-parana', 'jijoca de jericoacoara', 'jiquirica', 'joacaba', 'joaima', 'joanopolis', 'joao alfredo', 'joao camara', 'joao dourado', 'joao lisboa', 'joao monlevade', 'joao neiva', 'joao pessoa', 'joao pinheiro', 'joao ramalho', 'joaquim nabuco', 'joaquim pires', 'joaquim tavora', 'joinville', 'jordania', 'jose boiteux', 'jose bonifacio', 'jose da penha', 'jose de freitas', 'joselandia', 'joviania', 'juara', 'juatuba', 'juazeiro', 'juazeiro do norte', 'jucas', 'jucurucu', 'jucurutu', 'juina', 'juiz de fora', 'julio de castilhos', 'julio mesquita', 'jumirim', 'junco do serido', 'jundiai', 'jundiai do sul', 'junqueiro', 'junqueiropolis', 'jupi', 'juquia', 'juquitiba', 'juranda', 'jurema', 'juripiranga', 'juru', 'juruaia', 'juruena', 'juruti', 'juscimeira', 'jussara', 'jussari', 'jussiape', 'juti', 'juvenilia', 'kalore', 'ladainha', 'ladario', 'lagarto', 'lages', 'lago da pedra', 'lago verde', 'lagoa', \"lagoa d'anta\", 'lagoa da canoa', 'lagoa da confusao', 'lagoa da prata', 'lagoa de sao francisco', 'lagoa de velhos', 'lagoa do carro', 'lagoa do mato', 'lagoa do ouro', 'lagoa do piaui', 'lagoa dos gatos', 'lagoa dos patos', 'lagoa dos tres cantos', 'lagoa dourada', 'lagoa formosa', 'lagoa grande', 'lagoa nova', 'lagoa real', 'lagoa salgada', 'lagoa santa', 'lagoa vermelha', 'lagoao', 'lagoinha', 'lagoinha do piaui', 'laguna', 'laje do muriae', 'lajeado', 'lajeado grande', 'lajedo', 'lajinha', 'lamarao', 'lambari', 'lamim', 'lapa', 'laranja da terra', 'laranjal', 'laranjal do jari', 'laranjal paulista', 'laranjeiras do sul', 'laurentino', 'lauro de freitas', 'lauro muller', 'lavinia', 'lavras', 'lavras da mangabeira', 'lavras do sul', 'lavrinhas', 'leandro ferreira', 'lebon regis', 'leme', 'lencois', 'lencois paulista', 'leoberto leal', 'leopoldina', 'leopoldo de bulhoes', 'leopolis', 'liberato salzano', 'liberdade', 'lidice', 'lima duarte', 'limeira', 'limeira do oeste', 'limoeiro', 'limoeiro do norte', 'lindoeste', 'lindoia', 'lindoia do sul', 'lindolfo collor', 'linhares', 'lins', 'livramento', 'livramento de nossa senhora', 'loanda', 'lobato', 'londrina', 'lontras', 'lorena', 'loreto', 'lourdes', 'louveira', 'lucas do rio verde', 'lucelia', 'lucena', 'lucianopolis', 'luis antonio', 'luis correia', 'luis eduardo magalhaes', 'luisburgo', 'luiz alves', 'luiziana', 'luiziania', 'luizlandia do oeste', 'luminarias', 'lunardelli', 'lupercio', 'lupionopolis', 'lutecia', 'luz', 'luziania', 'luziapolis', 'luzilandia', 'macae', 'macaiba', 'macambara', 'macambira', 'macapa', 'macaparana', 'macatuba', 'macau', 'macaubal', 'macaubas', 'macedonia', 'maceio', 'machacalis', 'machadinho', \"machadinho d'oeste\", 'machado', 'machados', 'macieira', 'macuco', 'macuco de minas', 'madalena', 'madre de deus', 'madre de deus de minas', \"mae d'agua\", 'mae do rio', 'mafra', 'magalhaes de almeida', 'magda', 'mage', 'maioba', 'maiquinique', 'mairi', 'mairinque', 'mairipora', 'mairipotaba', 'major porto', 'major vieira', 'malacacheta', 'malhador', 'mallet', 'mamanguape', 'mambai', 'mambore', 'mamonas', 'mampituba', 'manaira', 'manaus', 'mandaguacu', 'mandaguari', 'mandirituba', 'manduri', 'manfrinopolis', 'manga', 'mangaratiba', 'mangueirinha', 'manhuacu', 'manhumirim', 'manoel ribas', 'manoel urbano', 'manoel viana', 'mansidao', 'mantena', 'mantenopolis', 'maquine', 'mar de espanha', 'mar vermelho', 'mara rosa', 'maraba', 'maracacume', 'maracai', 'maracaju', 'maracana', 'maracanau', 'maracas', 'maragogi', 'maragogipe', 'maranguape', 'maranhaozinho', 'marataizes', 'marau', 'maravilha', 'maravilhas', 'marcelino vieira', 'marco', 'marcos parente', 'marechal candido rondon', 'marechal deodoro', 'marechal floriano', 'mari', 'maria da fe', 'marialva', 'mariana', 'mariano moro', 'mariapolis', 'maribondo', 'marica', 'mariental', 'marilac', 'marilandia', 'marilandia do sul', 'marilena', 'marilia', 'mariluz', 'maringa', 'marinopolis', 'mario campos', 'mariopolis', 'maripa', 'maristela', 'marituba', 'marmeleiro', 'marques de souza', 'martinesia', 'martinho campos', 'martinopolis', 'martins', 'martins soares', 'mascote', 'massape', 'massaranduba', 'mata', 'mata de sao joao', 'mata grande', 'mata roma', 'mata verde', 'matao', 'matelandia', 'materlandia', 'mateus leme', 'matias barbosa', 'matias olimpio', 'matinhos', 'matipo', 'mato leitao', 'mato rico', 'mato verde', 'matoes', 'matoes do norte', 'matozinhos', 'matrincha', 'matriz de camaragibe', 'matupa', 'matutina', 'maua', 'maua da serra', 'maurilandia', 'mauriti', 'maximiliano de almeida', 'medeiros', 'medeiros neto', 'medianeira', 'medicilandia', 'medina', 'meleiro', 'mendes', 'mendes pimentel', 'mendonca', 'mercedes', 'merces', 'meridiano', 'meruoca', 'mesquita', 'messias targino', 'miguel calmon', 'miguel pereira', 'miguelopolis', 'milagres', 'milha', 'mimoso de goias', 'mimoso do sul', 'minacu', 'minas do leao', 'minas novas', 'minduri', 'mineiros', 'mineiros do tiete', 'ministro andreazza', 'mira estrela', 'miracatu', 'miracema', 'miradouro', 'miraguai', 'mirai', 'miraima', 'miranda', 'miranda do norte', 'mirandiba', 'mirandopolis', 'miranorte', 'mirante da serra', 'mirante do paranapanema', 'mirassol', \"mirassol d'oeste\", 'miravania', 'mirinzal', 'missal', 'missao velha', 'missi', 'mocajuba', 'mococa', 'moeda', 'moema', 'mogi das cruzes', 'mogi mirim', 'mogi-guacu', 'mogi-mirim', 'moju', 'mojui dos campos', 'mombaca', 'mombuca', 'moncao', 'moncoes', 'mondai', 'mongagua', 'monnerat', 'monsenhor paulo', 'monsenhor tabosa', 'montadas', 'montalvania', 'montanha', 'montanhas', 'montauri', 'monte alegre', 'monte alegre de minas', 'monte alegre de sergipe', 'monte alegre do sul', 'monte alto', 'monte alverne', 'monte aprazivel', 'monte azul', 'monte azul paulista', 'monte belo', 'monte belo do sul', 'monte bonito', 'monte carlo', 'monte carmelo', 'monte castelo', 'monte formoso', 'monte gordo', 'monte mor', 'monte santo', 'monte santo de minas', 'monte siao', 'monte verde', 'monteiro lobato', 'monteiropolis', 'montenegro', 'montes claros', 'montezuma', 'montividiu do norte', 'morada nova', 'morada nova de minas', 'moreilandia', 'moreira sales', 'moreno', 'morpara', 'morretes', 'morrinhos', 'morro agudo', 'morro agudo de goias', 'morro da fumaca', 'morro da garca', 'morro de sao paulo', 'morro do chapeu', 'morro do ferro', 'morro do pilar', 'morro grande', 'morro redondo', 'morro reuter', 'morro vermelho', 'morungaba', 'mossamedes', 'mossoro', 'mostardas', 'motuca', 'mozarlandia', 'mucambo', 'mucuge', 'mucuri', 'mucurici', 'muliterno', 'mundo novo', 'munhoz', 'munhoz de melo', 'muniz freire', 'muquem do sao francisco', 'muqui', 'muriae', 'murici', 'muritiba', 'murucupi', 'murutinga do sul', 'mussurepe', 'mutuipe', 'mutum', 'mutum parana', 'mutunopolis', 'muzambinho', 'nacip raydan', 'nantes', 'nanuque', 'nao-me-toque', 'narandiba', 'natal', 'natercia', 'natividade', 'natividade da serra', 'navegantes', 'navirai', 'nazare', 'nazare da mata', 'nazare paulista', 'nazareno', 'nazario', 'neopolis', 'nepomuceno', 'neropolis', 'neves paulista', 'nhandeara', 'nilopolis', 'nipoa', 'niquelandia', 'niteroi', 'nobres', 'nonoai', 'nortelandia', 'nossa senhora da gloria', 'nossa senhora das dores', 'nossa senhora das gracas', 'nossa senhora de caravaggio', 'nossa senhora de lourdes', 'nossa senhora do o', 'nossa senhora do remedio', 'nossa senhora do socorro', 'nova alvorada', 'nova alvorada do sul', 'nova america', 'nova america da colina', 'nova andradina', 'nova araca', 'nova aurora', 'nova bandeirantes', 'nova bassano', 'nova boa vista', \"nova brasilandia d'oeste\", 'nova brescia', 'nova campina', 'nova canaa', 'nova canaa do norte', 'nova canaa paulista', 'nova cantu', 'nova crixas', 'nova cruz', 'nova era', 'nova erechim', 'nova esperanca', 'nova esperanca do piria', 'nova esperanca do sudoeste', 'nova esperanca do sul', 'nova europa', 'nova fatima', 'nova floresta', 'nova friburgo', 'nova granada', 'nova guarita', 'nova guataporanga', 'nova hartz', 'nova iguacu', 'nova independencia', 'nova ipixuna', 'nova itaberaba', 'nova lacerda', 'nova laranjeiras', 'nova lima', 'nova londrina', 'nova luzitania', 'nova mamore', 'nova monte verde', 'nova mutum', 'nova odessa', 'nova olimpia', 'nova olinda', 'nova olinda do maranhao', 'nova padua', 'nova palma', 'nova petropolis', 'nova ponte', 'nova prata', 'nova prata do iguacu', 'nova redencao', 'nova resende', 'nova roma', 'nova roma do sul', 'nova russas', 'nova santa barbara', 'nova santa rita', 'nova santa rosa', 'nova serrana', 'nova soure', 'nova timboteua', 'nova trento', 'nova ubirata', 'nova venecia', 'nova veneza', 'nova vicosa', 'nova xavantina', 'novais', 'novo alegre', 'novo barreiro', 'novo brasil', 'novo cabrais', 'novo cruzeiro', 'novo gama', 'novo hamburgo', 'novo horizonte', 'novo itacolomi', 'novo jardim', 'novo lino', 'novo machado', 'novo mundo', 'novo oriente', 'novo oriente de minas', 'novo oriente do piaui', 'novo planalto', 'novo progresso', 'novo repartimento', 'novo sao joaquim', 'nucleo residencial pilar', 'nuporanga', 'ocara', 'ocaucu', 'oeiras', 'oeiras do para', 'oiapoque', 'olaria', 'oleo', \"olho d'agua das cunhas\", \"olho d'agua das flores\", \"olhos d'agua\", 'olimpia', 'olinda', 'olindina', 'oliveira', 'oliveira dos brejinhos', 'onda verde', 'oriente', 'orindiuva', 'orizania', 'orizona', 'orlandia', 'orleans', 'orobo', 'oroco', 'oros', 'ortigueira', 'osasco', 'oscar bressane', 'osorio', 'osvaldo cruz', 'osvaldo kroeff', 'otacilio costa', 'ourem', 'ouricuri', 'ourilandia do norte', 'ourinhos', 'ourizona', 'ouro', 'ouro branco', 'ouro fino', 'ouro preto', 'ouro preto do oeste', 'ouro verde', 'ouro verde de goias', 'ouro verde de minas', 'ouro verde do oeste', 'ouroeste', 'ouvidor', 'pacaembu', 'pacaja', 'pacajus', 'pacatuba', 'paco do lumiar', 'pacoti', 'pacotuba', 'pacuja', 'padre bernardo', 'padre carvalho', 'padre gonzales', 'padre paraiso', 'paial', 'paicandu', 'paineiras', 'pains', 'paiva', 'palestina', 'palhano', 'palhoca', 'palma', 'palma sola', 'palmares', 'palmares do sul', 'palmares paulista', 'palmas', 'palmeira', 'palmeira d oeste', \"palmeira d'oeste\", 'palmeira das missoes', 'palmeira dos indios', 'palmeiras', 'palmeiras de goias', 'palmeirinha', 'palminopolis', 'palmital', 'palmital de minas', 'palmitinho', 'palmitos', 'palmopolis', 'palotina', 'panambi', 'pancas', 'panelas', 'panorama', 'pantano grande', 'papagaios', 'papanduva', 'papucaia', 'para de minas', 'paracambi', 'paracatu', 'paracuru', 'paragominas', 'paraguacu', 'paraguacu paulista', 'parai', 'paraiba do sul', 'paraibano', 'paraibuna', 'paraipaba', 'paraiso', 'paraiso das aguas', 'paraiso do norte', 'paraiso do sul', 'paraiso do tocantins', 'paraisopolis', 'paraju', 'parambu', 'paramirim', 'parana', 'paranacity', 'paranagua', 'paranaiba', 'paranaiguara', 'paranaita', 'paranapanema', 'paranapoema', 'paranapua', 'paranatinga', 'paranavai', 'paranhos', 'paraopeba', 'parapua', 'parati', 'paraty', 'parauapebas', 'parauna', 'pardinho', 'pareci novo', 'parelhas', 'paripiranga', 'paripueira', 'pariquera-acu', 'parisi', 'parnaiba', 'parnamirim', 'parnarama', 'parobe', 'passa quatro', 'passa tempo', 'passa tres', 'passagem', 'passagem franca', 'passira', 'passo de camaragibe', 'passo de torres', 'passo fundo', 'passos', 'passos maia', 'pastos bons', 'patis', 'pato bragado', 'pato branco', 'patos', 'patos de minas', 'patrocinio', 'patrocinio do muriae', 'patrocinio paulista', 'patu', 'paty do alferes', 'pau brasil', \"pau d'arco\", 'pau dos ferros', 'paudalho', 'paula candido', 'paula freitas', 'pauliceia', 'paulinia', 'paulino neves', 'paulista', 'paulistana', 'paulistania', 'paulo afonso', 'paulo de faria', 'paulo frontin', 'paulo jacinto', 'paulo lopes', 'pavao', 'peabiru', 'pecanha', 'pederneiras', 'pedra', 'pedra azul', 'pedra bela', 'pedra branca', 'pedra do indaia', 'pedra lavrada', 'pedra menina', 'pedra preta', 'pedralva', 'pedranopolis', 'pedrao', 'pedras altas', 'pedras de fogo', 'pedregulho', 'pedreira', 'pedreiras', 'pedrinhas paulista', 'pedrinopolis', 'pedro afonso', 'pedro canario', 'pedro de toledo', 'pedro gomes', 'pedro ii', 'pedro leopoldo', 'pedro osorio', 'pedro velho', 'peixe', 'peixoto de azevedo', 'pejucara', 'pelotas', 'penaforte', 'penapolis', 'pendencias', 'penedo', 'penha', 'pentecoste', 'pequi', 'pequizeiro', 'perdigao', 'perdizes', 'perdoes', 'pereira barreto', 'pereiras', 'pereiro', 'peri mirim', 'periquito', 'peritiba', 'perobal', 'perola', \"perola d'oeste\", 'perola independente', 'perpetuo socorro', 'peruibe', 'pescador', 'pesqueira', 'petrolandia', 'petrolina', 'petropolis', 'piacabucu', 'piacatu', 'piacu', 'pianco', 'piao', 'piata', 'piau', 'picada cafe', 'picarra', 'picarras', 'picos', 'picui', 'piedade', 'piedade de caratinga', 'piedade do rio grande', 'piedade dos gerais', 'pien', 'pilao arcado', 'pilar', 'pilar do sul', 'pimenta', 'pimenta bueno', 'pimenteiras', 'pindai', 'pindamonhangaba', 'pindare mirim', 'pindoba', 'pindobacu', 'pindorama', 'pindorama do tocantins', 'pindoretama', \"pingo-d'agua\", 'pinhais', 'pinhal da serra', 'pinhalao', 'pinhalzinho', 'pinhao', 'pinheiral', 'pinheiro', 'pinheiro machado', 'pinheiros', 'pinhotiba', 'pintadas', 'pinto bandeira', 'pio ix', 'pio xii', 'piquerobi', 'piquete', 'piracaia', 'piracanjuba', 'piracema', 'piracicaba', 'piracuruca', 'pirai', 'pirai do norte', 'pirai do sul', 'piraju', 'pirajuba', 'pirajui', 'pirambu', 'piranga', 'pirangi', 'piranguinho', 'piranhas', 'pirapemas', 'pirapetinga', 'pirapo', 'pirapora', 'pirapora do bom jesus', 'pirapozinho', 'piraquara', 'pirassununga', 'piratini', 'piratininga', 'piratuba', 'pirauba', 'pirenopolis', 'pires do rio', 'pires ferreira', 'piripa', 'piripiri', 'piritiba', 'pirpirituba', 'pitanga', 'pitanga de estrada', 'pitangueiras', 'pitangui', 'pitimbu', 'pium', 'piuma', 'piumhi', 'piumhii', 'placas', 'planaltina', 'planaltina de goias', 'planaltina do parana', 'planaltino', 'planalto', 'planura', 'poa', 'pocao', 'pocao de pedras', 'pocinhos', 'poco de pedra', 'poco fundo', 'poco redondo', 'poco verde', 'pocoes', 'pocoes de paineiras', 'pocos de caldas', 'pocrane', 'pojuca', 'polo petroquimico de triunfo', 'poloni', 'pombal', 'pombos', 'pomerode', 'pompeia', 'pompeu', 'pongai', 'ponta grossa', 'ponta pora', 'pontal', 'pontal do parana', 'pontalina', 'pontalinda', 'pontao', 'ponte alta do norte', 'ponte nova', 'ponte serrada', 'pontes e lacerda', 'pontes gestal', 'ponto belo', 'ponto do marambaia', 'ponto dos volantes', 'ponto novo', 'populina', 'porangaba', 'porangatu', 'porciuncula', 'porecatu', 'portalegre', 'portao', 'porteiras', 'porteirinha', 'portela', 'portelandia', 'porto acre', 'porto alegre', 'porto alegre do norte', 'porto amazonas', 'porto belo', 'porto calvo', 'porto de pedras', 'porto dos gauchos', 'porto esperidiao', 'porto estrela', 'porto feliz', 'porto ferreira', 'porto firme', 'porto franco', 'porto grande', 'porto lucena', 'porto murtinho', 'porto nacional', 'porto real', 'porto rico', 'porto seguro', 'porto trombetas', 'porto uniao', 'porto velho', 'porto xavier', 'posse', 'posto da mata', 'pote', 'potengi', 'potim', 'potiragua', 'potirendaba', 'pouso alegre', 'pouso alto', 'pouso novo', 'pouso redondo', 'poxoreu', 'prado', 'pradopolis', 'prados', 'praia grande', 'praia norte', 'pranchita', 'prata', 'pratapolis', 'presidente alves', 'presidente bernardes', 'presidente castello branco', 'presidente dutra', 'presidente epitacio', 'presidente getulio', 'presidente janio quadros', 'presidente juscelino', 'presidente kennedy', 'presidente kubitschek', 'presidente lucena', 'presidente medici', 'presidente nereu', 'presidente olegario', 'presidente prudente', 'presidente tancredo neves', 'presidente venceslau', 'primavera', 'primavera do leste', 'primeiro de maio', 'princesa isabel', 'progresso', 'promissao', 'propria', 'protasio alves', 'prudencio thomaz', 'prudente de morais', 'prudentopolis', 'pugmil', 'pureza', 'purilandia', 'putinga', 'puxinana', 'quadra', 'quarai', 'quata', 'quatigua', 'quatis', 'quatituba', 'quatro barras', 'quatro bocas', 'quatro pontes', 'quedas do iguacu', 'queimadas', 'queimados', 'queiroz', 'queixada', 'queluz', 'querencia', 'querencia do norte', 'quevedos', 'quijingue', 'quilombo', 'quilometro 14 do mutum', 'quinta do sol', 'quintana', 'quipapa', 'quirinopolis', 'quissama', 'quitandinha', 'quixabeira', 'quixada', 'quixelo', 'quixeramobim', 'quixere', 'rafard', 'rainha do mar', 'rancharia', 'rancho alegre', \"rancho alegre d'oeste\", 'rancho queimado', 'raposo', 'raposos', 'raul soares', 'ravena', 'realeza', 'reboucas', 'rechan', 'recife', 'recreio', 'redencao', 'redencao da serra', 'redencao do gurgueia', 'redentora', 'regeneracao', 'regente feijo', 'reginopolis', 'registro', 'remanso', 'remigio', 'renascenca', 'reriutaba', 'resende', 'resende costa', 'reserva', 'reserva do cabacal', 'reserva do iguacu', 'resplendor', 'ressaquinha', 'restinga seca', 'retirolandia', 'riachao das neves', 'riachao do jacuipe', 'riachinho', 'riacho da cruz', 'riacho das almas', 'riacho de santana', 'riacho de santo antonio', 'riacho dos machados', 'riachuelo', 'rianapolis', 'ribas do rio pardo', 'ribeira', 'ribeira do amparo', 'ribeira do pombal', 'ribeirao', 'ribeirao bonito', 'ribeirao branco', 'ribeirao cascalheira', 'ribeirao claro', 'ribeirao das neves', 'ribeirao do pinhal', 'ribeirao do sul', 'ribeirao pires', 'ribeirao preto', 'ribeirao vermelho', 'ribeiraozinho', 'ribeiro junqueira', 'ribeiropolis', 'rifaina', 'rincao', 'rinopolis', 'rio acima', 'rio azul', 'rio bananal', 'rio bonito', 'rio bonito do iguacu', 'rio branco', 'rio branco do sul', 'rio brilhante', 'rio casca', 'rio claro', 'rio das antas', 'rio das flores', 'rio das ostras', 'rio das pedras', 'rio de contas', 'rio de janeiro', 'rio do antonio', 'rio do campo', 'rio do oeste', 'rio do pires', 'rio do sul', 'rio doce', 'rio dos cedros', 'rio dos indios', 'rio espera', 'rio formoso', 'rio fortuna', 'rio grande', 'rio grande da serra', 'rio grande do piaui', 'rio largo', 'rio manso', 'rio maria', 'rio negrinho', 'rio negro', 'rio novo', 'rio novo do sul', 'rio paranaiba', 'rio pardo', 'rio pardo de minas', 'rio piracicaba', 'rio pomba', 'rio preto', 'rio real', 'rio rufino', 'rio tinto', 'rio verde', 'riolandia', 'riqueza', 'ritapolis', 'riversul', 'roca sales', 'rodeio', 'rodeio bonito', 'rodeiro', 'rodelas', 'rodolfo fernandes', 'rolandia', 'rolante', 'rolim de moura', 'romaria', 'romelandia', 'roncador', 'ronda alta', 'rondon', 'rondon do para', 'rondonopolis', 'roque gonzales', 'rosana', 'rosario', 'rosario do ivai', 'rosario do sul', 'roseira', 'rubelita', 'rubiacea', 'rubiataba', 'rubim', 'rubineia', 'russas', 'ruy barbosa', 'sabara', 'sabaudia', 'sabino', 'sabinopolis', 'saboeiro', 'sacra familia do tingua', 'sacramento', 'sales', 'sales oliveira', 'salesopolis', 'salgado filho', 'salgueiro', 'salinas', 'salinas da margarida', 'salmourao', 'saloa', 'salobro', 'saltinho', 'salto', 'salto da divisa', 'salto de pirapora', 'salto do ceu', 'salto do itarare', 'salto do jacui', 'salto do lontra', 'salto grande', 'salto veloso', 'salvador', 'salvador do sul', 'sambaiba', 'sananduva', 'sanclerlandia', 'sandolandia', 'sanga puita', 'sangao', 'sanharo', 'santa adelia', 'santa albertina', 'santa amelia', 'santa barbara', 'santa barbara d oeste', \"santa barbara d'oeste\", 'santa barbara do para', 'santa barbara do sul', 'santa branca', 'santa brigida', 'santa cecilia', 'santa cecilia do pavao', \"santa clara d'oeste\", 'santa clara do sul', 'santa cruz', 'santa cruz cabralia', 'santa cruz da conceicao', 'santa cruz das palmeiras', 'santa cruz de goias', 'santa cruz de minas', 'santa cruz de monte castelo', 'santa cruz de salinas', 'santa cruz do capibaribe', 'santa cruz do piaui', 'santa cruz do prata', 'santa cruz do rio pardo', 'santa cruz do sul', 'santa cruz do timbo', 'santa ernestina', 'santa fe', 'santa fe de goias', 'santa fe de minas', 'santa fe do sul', 'santa filomena', 'santa gertrudes', 'santa helena', 'santa helena de goias', 'santa helena de minas', 'santa ines', 'santa isabel', 'santa isabel do ivai', 'santa isabel do para', 'santa isabel do rio preto', 'santa izabel do oeste', 'santa juliana', 'santa leopoldina', 'santa lucia', 'santa luzia', 'santa luzia do norte', 'santa luzia do parua', 'santa margarida', 'santa maria', 'santa maria da boa vista', 'santa maria da serra', 'santa maria da vitoria', 'santa maria de itabira', 'santa maria de jetiba', 'santa maria do herval', 'santa maria do para', 'santa maria do salto', 'santa maria do suacui', 'santa maria madalena', 'santa mariana', 'santa mercedes', 'santa monica', 'santa quiteria', 'santa quiteria do maranhao', 'santa rita', \"santa rita d'oeste\", 'santa rita da floresta', 'santa rita de caldas', 'santa rita de jacutinga', 'santa rita de minas', 'santa rita do araguaia', 'santa rita do ibitipoca', 'santa rita do itueto', 'santa rita do passa quatro', 'santa rita do sapucai', 'santa rosa', 'santa rosa de lima', 'santa rosa de viterbo', 'santa rosa do sul', 'santa salete', 'santa teresa', 'santa teresinha', 'santa tereza do oeste', 'santa terezinha', 'santa terezinha de itaipu', 'santa vitoria', 'santa vitoria do palmar', 'santaluz', 'santana', 'santana da boa vista', 'santana da vargem', 'santana de parnaiba', 'santana de pirapama', 'santana do acarau', 'santana do araguaia', 'santana do capivari', 'santana do cariri', 'santana do deserto', 'santana do ipanema', 'santana do itarare', 'santana do jacare', 'santana do livramento', 'santana do manhuacu', 'santana do mundau', 'santana do paraiso', 'santana do serido', 'santana do sobrado', 'santana dos montes', 'santanesia', 'santarem', 'santiago', 'santo amaro', 'santo amaro da imperatriz', 'santo amaro das brotas', 'santo amaro de campos', 'santo anastacio', 'santo andre', 'santo angelo', 'santo antonio', 'santo antonio da alegria', 'santo antonio da patrulha', 'santo antonio da platina', 'santo antonio das missoes', 'santo antonio das queimadas', 'santo antonio de goias', 'santo antonio de jesus', 'santo antonio de padua', 'santo antonio de posse', 'santo antonio do amparo', 'santo antonio do aracangua', 'santo antonio do aventureiro', 'santo antonio do caiua', 'santo antonio do canaa', 'santo antonio do descoberto', 'santo antonio do grama', 'santo antonio do itambe', 'santo antonio do jacinto', 'santo antonio do jardim', 'santo antonio do leste', 'santo antonio do leverger', 'santo antonio do monte', 'santo antonio do palma', 'santo antonio do pinhal', 'santo antonio do planalto', 'santo antonio do rio abaixo', 'santo antonio do sudoeste', 'santo antonio do taua', 'santo antonio dos campos', 'santo augusto', 'santo cristo', 'santo eduardo', 'santo estevao', 'santo expedito', 'santo expedito do sul', 'santo hipolito', 'santo inacio', 'santos', 'santos dumont', 'sao benedito', 'sao benedito do rio preto', 'sao benedito do sul', 'sao bentinho', 'sao bento', 'sao bento abade', 'sao bento do sapucai', 'sao bento do sul', 'sao bento do una', 'sao bernardino', 'sao bernardo', 'sao bernardo do campo', 'sao bonifacio', 'sao borja', 'sao bras', 'sao bras do suacui', 'sao caetano do sul', 'sao carlos', 'sao carlos do ivai', 'sao clemente', 'sao cristovao', 'sao cristovao do sul', 'sao desiderio', 'sao domingos', 'sao domingos das dores', 'sao domingos do araguaia', 'sao domingos do maranhao', 'sao domingos do norte', 'sao domingos do prata', 'sao domingos do sul', 'sao felipe', 'sao felix', 'sao felix de minas', 'sao felix do araguaia', 'sao felix do coribe', 'sao felix do xingu', 'sao fernando', 'sao fidelis', 'sao francisco', 'sao francisco de assis', 'sao francisco de itabapoana', 'sao francisco de paula', 'sao francisco do brejao', 'sao francisco do conde', 'sao francisco do gloria', 'sao francisco do guapore', 'sao francisco do humaita', 'sao francisco do sul', 'sao gabriel', 'sao gabriel da palha', 'sao gabriel do oeste', 'sao geraldo', 'sao geraldo da piedade', 'sao geraldo do baguari', 'sao goncalo', 'sao goncalo do abaete', 'sao goncalo do amarante', 'sao goncalo do para', 'sao goncalo do rio abaixo', 'sao goncalo do rio das pedras', 'sao goncalo do rio preto', 'sao goncalo do sapucai', 'sao gotardo', 'sao jeronimo', 'sao joao', 'sao joao batista', 'sao joao batista do gloria', \"sao joao d'alianca\", 'sao joao da barra', 'sao joao da boa vista', 'sao joao da mata', 'sao joao da parauna', 'sao joao da ponte', 'sao joao da urtiga', 'sao joao das missoes', 'sao joao de iracema', 'sao joao de meriti', 'sao joao de petropolis', 'sao joao de pirabas', 'sao joao del rei', 'sao joao do itaperiu', 'sao joao do ivai', 'sao joao do manhuacu', 'sao joao do manteninha', 'sao joao do oriente', 'sao joao do paraiso', 'sao joao do piaui', 'sao joao do sabugi', 'sao joao do sobrado', 'sao joao do sul', 'sao joao do triunfo', 'sao joao dos patos', 'sao joao evangelista', 'sao joao nepomuceno', 'sao joaquim', 'sao joaquim da barra', 'sao joaquim de bicas', 'sao joaquim do monte', 'sao jorge', \"sao jorge d'oeste\", 'sao jorge do ivai', 'sao jorge do oeste', 'sao jorge do patrocinio', 'sao jose', 'sao jose da barra', 'sao jose da bela vista', 'sao jose da boa vista', 'sao jose da coroa grande', 'sao jose da laje', 'sao jose da lapa', 'sao jose da tapera', 'sao jose da vitoria', 'sao jose de mipibu', 'sao jose de ribamar', 'sao jose de uba', 'sao jose do barreiro', 'sao jose do belmonte', 'sao jose do calcado', 'sao jose do campestre', 'sao jose do cedro', 'sao jose do cerrito', 'sao jose do divino', 'sao jose do egito', 'sao jose do goiabal', 'sao jose do hortencio', 'sao jose do inhacora', 'sao jose do norte', 'sao jose do ouro', 'sao jose do piaui', 'sao jose do ribeirao', 'sao jose do rio claro', 'sao jose do rio pardo', 'sao jose do rio preto', 'sao jose do serido', 'sao jose do turvo', 'sao jose do vale do rio preto', 'sao jose do xingu', 'sao jose dos campos', 'sao jose dos cordeiros', 'sao jose dos pinhais', 'sao jose dos quatro marcos', 'sao leopoldo', 'sao lourenco', 'sao lourenco da mata', 'sao lourenco da serra', 'sao lourenco do oeste', 'sao lourenco do piaui', 'sao lourenco do sul', 'sao ludgero', 'sao luis', 'sao luis de montes belos', 'sao luis do curu', 'sao luis do paraitinga', 'sao luis do quitunde', 'sao luiz do norte', 'sao luiz gonzaga', 'sao mamede', 'sao manuel', 'sao marcos', 'sao martinho', 'sao mateus', 'sao mateus de minas', 'sao mateus do maranhao', 'sao mateus do sul', 'sao miguel', 'sao miguel arcanjo', 'sao miguel das matas', 'sao miguel do aleixo', 'sao miguel do anta', 'sao miguel do araguaia', 'sao miguel do cambui', 'sao miguel do gostoso', 'sao miguel do guama', 'sao miguel do guapore', 'sao miguel do iguacu', 'sao miguel do oeste', 'sao miguel do tapuio', 'sao miguel dos campos', 'sao nicolau', 'sao patricio', 'sao paulo', 'sao paulo das missoes', 'sao paulo do potengi', 'sao pedro', 'sao pedro da agua branca', 'sao pedro da aldeia', 'sao pedro da uniao', 'sao pedro de alcantara', 'sao pedro do butia', 'sao pedro do iguacu', 'sao pedro do ivai', 'sao pedro do sul', 'sao pedro do turvo', 'sao pedro dos ferros', 'sao rafael', 'sao raimundo nonato', 'sao romao', 'sao roque', 'sao roque de minas', 'sao roque do canaa', 'sao sebastiao', 'sao sebastiao da amoreira', 'sao sebastiao da boa vista', 'sao sebastiao da grama', 'sao sebastiao da serra', 'sao sebastiao de campos', 'sao sebastiao do alto', 'sao sebastiao do cai', 'sao sebastiao do maranhao', 'sao sebastiao do paraiba', 'sao sebastiao do paraiso', 'sao sebastiao do passe', 'sao sebastiao do rio verde', 'sao sepe', 'sao simao', 'sao thome das letras', 'sao tiago', 'sao tomas de aquino', 'sao tome', 'sao valentim', 'sao vendelino', 'sao vicente', 'sao vicente ferrer', 'sao vitor', 'sape', 'sapeacu', 'sapezal', 'sapiranga', 'sapopema', 'sapucai-mirim', 'sapucaia', 'sapucaia do sul', 'saquarema', 'sarandi', 'sarapui', 'sardoa', 'sarutaia', 'sarzedo', 'satiro dias', 'satuba', 'satubinha', 'saubara', 'saudade do iguacu', 'saudades', 'saude', 'schroeder', 'seabra', 'seara', 'sebastiao leal', 'seberi', 'sede alvorada', 'segredo', 'selbach', 'senador amaral', 'senador canedo', 'senador cortes', 'senador firmino', 'senador guiomard', 'senador jose porfirio', 'senador la rocque', 'senador modestino goncalves', 'senador pompeu', 'senador salgado filho', 'senges', 'senhor do bonfim', 'senhora de oliveira', 'senhora dos remedios', 'sento se', 'serafina correa', 'sericita', 'seringueiras', 'serio', 'seropedica', 'serra', 'serra azul', 'serra azul de minas', 'serra bonita', 'serra branca', 'serra de sao bento', 'serra do ramalho', 'serra do salitre', 'serra dos aimores', 'serra dos dourados', 'serra dourada', 'serra negra', 'serra talhada', 'serrana', 'serrania', 'serranopolis', 'serranopolis de minas', 'serranopolis do iguacu', 'serrinha', 'serrita', 'serro', 'serrolandia', 'sertania', 'sertanopolis', 'sertao', 'sertao santana', 'sertaozinho', 'sete barras', 'sete de setembro', 'sete lagoas', 'setubinha', 'severiano melo', 'severinia', 'sideropolis', 'sidrolandia', 'silva jardim', 'silvania', 'silvano', 'silvanopolis', 'silveira carvalho', 'silveira martins', 'silveiras', 'silvianopolis', 'simao dias', 'simao pereira', 'simoes filho', 'simolandia', 'simonesia', 'simplicio mendes', 'sinimbu', 'sinop', 'siqueira campos', 'siriji', 'sirinhaem', 'sitio do quinto', 'sitio novo', 'sitio novo do tocantins', 'sobradinho', 'sobral', 'sobralia', 'socorro', 'solanea', 'soledade', 'soledade de minas', 'solonopole', 'sombrio', 'sonora', 'sooretama', 'sorocaba', 'sorriso', 'sousa', 'sucesso', 'sucupira do norte', 'sud mennucci', 'sulina', 'sumare', 'sume', 'sumidouro', 'surubim', 'suzanapolis', 'suzano', 'tabapora', 'tabapua', 'tabatinga', 'tabira', 'taboao da serra', 'tabocas do brejo velho', 'taboquinhas', 'tabuleiro', 'tabuleiro do norte', 'tacaratu', 'taciba', 'tacuru', 'taguai', 'taguatinga', 'taiacu', 'tailandia', 'taio', 'taiobeiras', 'taiuva', 'tamandare', 'tamarana', 'tambau', 'tamboara', 'tanabi', 'tangara', 'tangara da serra', 'tangua', 'tanhacu', \"tanque d'arca\", 'tanque novo', 'taparuba', 'tapejara', 'tapera', 'taperuaba', 'tapes', 'tapinas', 'tapirai', 'tapiramuta', 'tapiratiba', 'tapurah', 'taquara', 'taquaracu de minas', 'taquarana', 'taquari', 'taquaritinga', 'taquaritinga do norte', 'taquarituba', 'taquarivai', 'taquarucu do sul', 'tarabai', 'taruma', 'tarumirim', 'tatui', 'taua', 'taubate', 'tavares', 'tecainda', 'teixeira', 'teixeira de freitas', 'teixeira soares', 'teixeiras', 'tejupa', 'telemaco borba', 'telha', 'tenente ananias', 'tenente portela', 'teodoro sampaio', 'teofilandia', 'teofilo otoni', 'teolandia', 'teotonio vilela', 'terenos', 'teresina', 'teresina de goias', 'teresopolis', 'terezinha', 'termas de ibira', 'terra boa', 'terra de areia', 'terra nova', 'terra nova do norte', 'terra rica', 'terra roxa', 'teutonia', 'tiangua', 'tibagi', 'tibau do sul', 'tiete', 'tijucas', 'timbauba', 'timbe do sul', 'timbo', 'timburi', 'timon', 'timoteo', 'tiradentes', 'tiradentes do sul', 'tiros', 'tobias barreto', 'tocantinopolis', 'tocantins', 'tocos', 'tocos do moji', 'toledo', 'tomar do geru', 'tomazina', 'tombos', 'tome-acu', 'toritama', 'toropi', 'torres', 'torrinha', 'trabiju', 'tracuateua', 'tracunhaem', 'traipu', 'trairi', 'trajano de moraes', 'tramandai', 'trancoso', 'travessao', 'travesseiro', 'tremembe', 'tres arroios', 'tres barras', 'tres cachoeiras', 'tres coracoes', 'tres coroas', 'tres de maio', 'tres forquilhas', 'tres fronteiras', 'tres irmaos', 'tres lagoas', 'tres marias', 'tres passos', 'tres pontas', 'tres rios', 'treviso', 'treze tilias', 'trindade', 'trindade do sul', 'triunfo', 'trombas', 'trombudo central', 'tubarao', 'tucano', 'tucuma', 'tucunduva', 'tucurui', 'tuiuti', 'tumiritinga', 'tunapolis', 'tunas do parana', 'tupa', 'tupaciguara', 'tupancireta', 'tupandi', 'tuparece', 'tuparendi', 'tuparetama', 'tupassi', 'tupi paulista', 'turmalina', 'tururu', 'turvania', 'turvelandia', 'turvo', 'turvolandia', 'tutoia', 'uaua', 'uba', 'ubai', 'ubaira', 'ubaitaba', 'ubajara', 'ubaporanga', 'ubata', 'ubatuba', 'uberaba', 'uberlandia', 'ubirajara', 'ubirata', 'uchoa', 'uibai', 'uirauna', 'ulianopolis', 'umbauba', 'umburanas', 'umburatiba', 'umuarama', 'una', 'unai', 'uniao', 'uniao da serra', 'uniao da vitoria', 'uniao de minas', 'uniao do oeste', 'uniao do sul', 'uniao dos palmares', 'unistalda', 'upanema', 'urai', 'urandi', 'urania', 'urbano santos', 'uruacu', 'uruana', 'uruana de minas', 'uruara', 'urubici', 'uruburetama', 'urucania', 'urucuca', 'urucui', 'urucuia', 'urucurituba', 'uruguaiana', 'uruoca', 'urupa', 'urupes', 'urussanga', 'urutai', 'utinga', 'vacaria', 'valao do barro', 'vale do sol', 'vale real', 'valenca', 'valenca do piaui', 'valente', 'valentim gentil', 'valinhos', 'valparaiso', 'valparaiso de goias', 'vanini', 'vargeao', 'vargem', 'vargem alegre', 'vargem alta', 'vargem bonita', 'vargem grande', 'vargem grande do rio pardo', 'vargem grande do soturno', 'vargem grande do sul', 'vargem grande paulista', 'varginha', 'varjao de minas', 'varjota', 'varre-sai', 'varzea', 'varzea alegre', 'varzea da palma', 'varzea do poco', 'varzea grande', 'varzea nova', 'varzea paulista', 'varzedo', 'varzelandia', 'vassouras', 'vazante', 'venancio aires', 'venda branca', 'venda nova do imigrante', 'ventania', 'venturosa', 'vera', 'vera cruz', 'vera cruz do oeste', 'veranopolis', 'vere', 'vereda', 'verissimo', 'vermelho', 'vermelho novo', 'vertentes', 'vespasiano', 'vespasiano correa', 'viamao', 'viana', 'vianopolis', 'vicencia', 'vicente dutra', 'vicentina', 'vicentinopolis', 'vicosa', 'vicosa do ceara', 'victor graeff', 'videira', 'vieiras', 'vigia', 'vila bela da santissima trindade', 'vila dos cabanos', 'vila flor', 'vila flores', 'vila langaro', 'vila muriqui', 'vila nelita', 'vila nova', 'vila nova do sul', 'vila pereira', 'vila reis', 'vila rica', 'vila valerio', 'vila velha', 'vilhena', 'vinhedo', 'viradouro', 'virgem da lapa', 'virginia', 'virginopolis', 'virgolandia', 'visconde de maua', 'visconde do rio branco', 'viseu', 'vista alegre', 'vista alegre do alto', 'vitoria', 'vitoria da conquista', 'vitoria das missoes', 'vitoria de santo antao', 'vitoria do jari', 'vitoria do mearim', 'vitorino', 'vitorino freire', 'vitorinos', 'volta grande', 'volta redonda', 'votorantim', 'votuporanga', 'wagner', 'wanderley', 'wenceslau braz', 'wenceslau guimaraes', 'werneck', 'witmarsum', 'xambioa', 'xambre', 'xangri-la', 'xanxere', 'xapuri', 'xavantina', 'xaxim', 'xexeu', 'xinguara', 'xique-xique', 'zacarias', 'ze doca', 'zortea']\n"
     ]
    }
   ],
   "source": [
    "# Comprobar valores únicos\n",
    "valores_unicos_ordenados = sorted(olist_order_customer['customer_city'].unique())\n",
    "print(valores_unicos_ordenados)"
   ]
  },
  {
   "cell_type": "code",
   "execution_count": 585,
   "id": "b5b347a0",
   "metadata": {},
   "outputs": [],
   "source": [
    "# Pasar todo a minúsculas\n",
    "olist_order_customer['customer_city'] = olist_order_customer['customer_city'].str.lower()\n",
    "olist_order_customer['customer_state'] = olist_order_customer['customer_state'].str.lower()"
   ]
  },
  {
   "cell_type": "code",
   "execution_count": 586,
   "id": "973ae67c",
   "metadata": {},
   "outputs": [],
   "source": [
    "# Obtener csv limpio\n",
    "olist_order_customer.to_csv(\"olist_order_customer.csv\")"
   ]
  },
  {
   "cell_type": "markdown",
   "id": "d102d405",
   "metadata": {},
   "source": [
    "# Olist products dataset"
   ]
  },
  {
   "cell_type": "code",
   "execution_count": 587,
   "id": "366cdad6",
   "metadata": {},
   "outputs": [
    {
     "data": {
      "text/html": [
       "<div>\n",
       "<style scoped>\n",
       "    .dataframe tbody tr th:only-of-type {\n",
       "        vertical-align: middle;\n",
       "    }\n",
       "\n",
       "    .dataframe tbody tr th {\n",
       "        vertical-align: top;\n",
       "    }\n",
       "\n",
       "    .dataframe thead th {\n",
       "        text-align: right;\n",
       "    }\n",
       "</style>\n",
       "<table border=\"1\" class=\"dataframe\">\n",
       "  <thead>\n",
       "    <tr style=\"text-align: right;\">\n",
       "      <th></th>\n",
       "      <th>product_id</th>\n",
       "      <th>product_category_name</th>\n",
       "      <th>product_name_lenght</th>\n",
       "      <th>product_description_lenght</th>\n",
       "      <th>product_photos_qty</th>\n",
       "      <th>product_weight_g</th>\n",
       "      <th>product_length_cm</th>\n",
       "      <th>product_height_cm</th>\n",
       "      <th>product_width_cm</th>\n",
       "    </tr>\n",
       "  </thead>\n",
       "  <tbody>\n",
       "    <tr>\n",
       "      <th>0</th>\n",
       "      <td>1e9e8ef04dbcff4541ed26657ea517e5</td>\n",
       "      <td>perfumaria</td>\n",
       "      <td>40.0</td>\n",
       "      <td>287.0</td>\n",
       "      <td>1.0</td>\n",
       "      <td>225.0</td>\n",
       "      <td>16.0</td>\n",
       "      <td>10.0</td>\n",
       "      <td>14.0</td>\n",
       "    </tr>\n",
       "    <tr>\n",
       "      <th>1</th>\n",
       "      <td>3aa071139cb16b67ca9e5dea641aaa2f</td>\n",
       "      <td>artes</td>\n",
       "      <td>44.0</td>\n",
       "      <td>276.0</td>\n",
       "      <td>1.0</td>\n",
       "      <td>1000.0</td>\n",
       "      <td>30.0</td>\n",
       "      <td>18.0</td>\n",
       "      <td>20.0</td>\n",
       "    </tr>\n",
       "    <tr>\n",
       "      <th>2</th>\n",
       "      <td>96bd76ec8810374ed1b65e291975717f</td>\n",
       "      <td>esporte_lazer</td>\n",
       "      <td>46.0</td>\n",
       "      <td>250.0</td>\n",
       "      <td>1.0</td>\n",
       "      <td>154.0</td>\n",
       "      <td>18.0</td>\n",
       "      <td>9.0</td>\n",
       "      <td>15.0</td>\n",
       "    </tr>\n",
       "    <tr>\n",
       "      <th>3</th>\n",
       "      <td>cef67bcfe19066a932b7673e239eb23d</td>\n",
       "      <td>bebes</td>\n",
       "      <td>27.0</td>\n",
       "      <td>261.0</td>\n",
       "      <td>1.0</td>\n",
       "      <td>371.0</td>\n",
       "      <td>26.0</td>\n",
       "      <td>4.0</td>\n",
       "      <td>26.0</td>\n",
       "    </tr>\n",
       "    <tr>\n",
       "      <th>4</th>\n",
       "      <td>9dc1a7de274444849c219cff195d0b71</td>\n",
       "      <td>utilidades_domesticas</td>\n",
       "      <td>37.0</td>\n",
       "      <td>402.0</td>\n",
       "      <td>4.0</td>\n",
       "      <td>625.0</td>\n",
       "      <td>20.0</td>\n",
       "      <td>17.0</td>\n",
       "      <td>13.0</td>\n",
       "    </tr>\n",
       "    <tr>\n",
       "      <th>...</th>\n",
       "      <td>...</td>\n",
       "      <td>...</td>\n",
       "      <td>...</td>\n",
       "      <td>...</td>\n",
       "      <td>...</td>\n",
       "      <td>...</td>\n",
       "      <td>...</td>\n",
       "      <td>...</td>\n",
       "      <td>...</td>\n",
       "    </tr>\n",
       "    <tr>\n",
       "      <th>32946</th>\n",
       "      <td>a0b7d5a992ccda646f2d34e418fff5a0</td>\n",
       "      <td>moveis_decoracao</td>\n",
       "      <td>45.0</td>\n",
       "      <td>67.0</td>\n",
       "      <td>2.0</td>\n",
       "      <td>12300.0</td>\n",
       "      <td>40.0</td>\n",
       "      <td>40.0</td>\n",
       "      <td>40.0</td>\n",
       "    </tr>\n",
       "    <tr>\n",
       "      <th>32947</th>\n",
       "      <td>bf4538d88321d0fd4412a93c974510e6</td>\n",
       "      <td>construcao_ferramentas_iluminacao</td>\n",
       "      <td>41.0</td>\n",
       "      <td>971.0</td>\n",
       "      <td>1.0</td>\n",
       "      <td>1700.0</td>\n",
       "      <td>16.0</td>\n",
       "      <td>19.0</td>\n",
       "      <td>16.0</td>\n",
       "    </tr>\n",
       "    <tr>\n",
       "      <th>32948</th>\n",
       "      <td>9a7c6041fa9592d9d9ef6cfe62a71f8c</td>\n",
       "      <td>cama_mesa_banho</td>\n",
       "      <td>50.0</td>\n",
       "      <td>799.0</td>\n",
       "      <td>1.0</td>\n",
       "      <td>1400.0</td>\n",
       "      <td>27.0</td>\n",
       "      <td>7.0</td>\n",
       "      <td>27.0</td>\n",
       "    </tr>\n",
       "    <tr>\n",
       "      <th>32949</th>\n",
       "      <td>83808703fc0706a22e264b9d75f04a2e</td>\n",
       "      <td>informatica_acessorios</td>\n",
       "      <td>60.0</td>\n",
       "      <td>156.0</td>\n",
       "      <td>2.0</td>\n",
       "      <td>700.0</td>\n",
       "      <td>31.0</td>\n",
       "      <td>13.0</td>\n",
       "      <td>20.0</td>\n",
       "    </tr>\n",
       "    <tr>\n",
       "      <th>32950</th>\n",
       "      <td>106392145fca363410d287a815be6de4</td>\n",
       "      <td>cama_mesa_banho</td>\n",
       "      <td>58.0</td>\n",
       "      <td>309.0</td>\n",
       "      <td>1.0</td>\n",
       "      <td>2083.0</td>\n",
       "      <td>12.0</td>\n",
       "      <td>2.0</td>\n",
       "      <td>7.0</td>\n",
       "    </tr>\n",
       "  </tbody>\n",
       "</table>\n",
       "<p>32951 rows × 9 columns</p>\n",
       "</div>"
      ],
      "text/plain": [
       "                             product_id              product_category_name  \\\n",
       "0      1e9e8ef04dbcff4541ed26657ea517e5                         perfumaria   \n",
       "1      3aa071139cb16b67ca9e5dea641aaa2f                              artes   \n",
       "2      96bd76ec8810374ed1b65e291975717f                      esporte_lazer   \n",
       "3      cef67bcfe19066a932b7673e239eb23d                              bebes   \n",
       "4      9dc1a7de274444849c219cff195d0b71              utilidades_domesticas   \n",
       "...                                 ...                                ...   \n",
       "32946  a0b7d5a992ccda646f2d34e418fff5a0                   moveis_decoracao   \n",
       "32947  bf4538d88321d0fd4412a93c974510e6  construcao_ferramentas_iluminacao   \n",
       "32948  9a7c6041fa9592d9d9ef6cfe62a71f8c                    cama_mesa_banho   \n",
       "32949  83808703fc0706a22e264b9d75f04a2e             informatica_acessorios   \n",
       "32950  106392145fca363410d287a815be6de4                    cama_mesa_banho   \n",
       "\n",
       "       product_name_lenght  product_description_lenght  product_photos_qty  \\\n",
       "0                     40.0                       287.0                 1.0   \n",
       "1                     44.0                       276.0                 1.0   \n",
       "2                     46.0                       250.0                 1.0   \n",
       "3                     27.0                       261.0                 1.0   \n",
       "4                     37.0                       402.0                 4.0   \n",
       "...                    ...                         ...                 ...   \n",
       "32946                 45.0                        67.0                 2.0   \n",
       "32947                 41.0                       971.0                 1.0   \n",
       "32948                 50.0                       799.0                 1.0   \n",
       "32949                 60.0                       156.0                 2.0   \n",
       "32950                 58.0                       309.0                 1.0   \n",
       "\n",
       "       product_weight_g  product_length_cm  product_height_cm  \\\n",
       "0                 225.0               16.0               10.0   \n",
       "1                1000.0               30.0               18.0   \n",
       "2                 154.0               18.0                9.0   \n",
       "3                 371.0               26.0                4.0   \n",
       "4                 625.0               20.0               17.0   \n",
       "...                 ...                ...                ...   \n",
       "32946           12300.0               40.0               40.0   \n",
       "32947            1700.0               16.0               19.0   \n",
       "32948            1400.0               27.0                7.0   \n",
       "32949             700.0               31.0               13.0   \n",
       "32950            2083.0               12.0                2.0   \n",
       "\n",
       "       product_width_cm  \n",
       "0                  14.0  \n",
       "1                  20.0  \n",
       "2                  15.0  \n",
       "3                  26.0  \n",
       "4                  13.0  \n",
       "...                 ...  \n",
       "32946              40.0  \n",
       "32947              16.0  \n",
       "32948              27.0  \n",
       "32949              20.0  \n",
       "32950               7.0  \n",
       "\n",
       "[32951 rows x 9 columns]"
      ]
     },
     "execution_count": 587,
     "metadata": {},
     "output_type": "execute_result"
    }
   ],
   "source": [
    "olist_products_dataset = pd.read_csv ('../datasets/olist_products_dataset.csv')\n",
    "olist_products_dataset"
   ]
  },
  {
   "cell_type": "code",
   "execution_count": 588,
   "id": "82d29f1a",
   "metadata": {},
   "outputs": [
    {
     "data": {
      "text/plain": [
       "product_id                     object\n",
       "product_category_name          object\n",
       "product_name_lenght           float64\n",
       "product_description_lenght    float64\n",
       "product_photos_qty            float64\n",
       "product_weight_g              float64\n",
       "product_length_cm             float64\n",
       "product_height_cm             float64\n",
       "product_width_cm              float64\n",
       "dtype: object"
      ]
     },
     "execution_count": 588,
     "metadata": {},
     "output_type": "execute_result"
    }
   ],
   "source": [
    "# Comprobar tipos de datos\n",
    "olist_products_dataset.dtypes"
   ]
  },
  {
   "cell_type": "code",
   "execution_count": 589,
   "id": "6cefd7c8",
   "metadata": {},
   "outputs": [],
   "source": [
    "# Quitar nulos\n",
    "olist_products_dataset['product_category_name'] = olist_products_dataset['product_category_name'].fillna('Desconocido')"
   ]
  },
  {
   "cell_type": "code",
   "execution_count": 590,
   "id": "447f0c5f",
   "metadata": {},
   "outputs": [],
   "source": [
    "# Pasar a categórica product_category_name\n",
    "olist_products_dataset['product_category_name'] = olist_products_dataset['product_category_name'].astype('category')"
   ]
  },
  {
   "cell_type": "code",
   "execution_count": 591,
   "id": "75cc9bb5",
   "metadata": {},
   "outputs": [
    {
     "data": {
      "text/plain": [
       "product_id                      object\n",
       "product_category_name         category\n",
       "product_name_lenght            float64\n",
       "product_description_lenght     float64\n",
       "product_photos_qty             float64\n",
       "product_weight_g               float64\n",
       "product_length_cm              float64\n",
       "product_height_cm              float64\n",
       "product_width_cm               float64\n",
       "dtype: object"
      ]
     },
     "execution_count": 591,
     "metadata": {},
     "output_type": "execute_result"
    }
   ],
   "source": [
    "# Comprobar si se ha cambiado a categorical\n",
    "olist_products_dataset.dtypes"
   ]
  },
  {
   "cell_type": "code",
   "execution_count": 592,
   "id": "2e5a4276",
   "metadata": {},
   "outputs": [
    {
     "data": {
      "text/plain": [
       "product_id                      0\n",
       "product_category_name           0\n",
       "product_name_lenght           610\n",
       "product_description_lenght    610\n",
       "product_photos_qty            610\n",
       "product_weight_g                2\n",
       "product_length_cm               2\n",
       "product_height_cm               2\n",
       "product_width_cm                2\n",
       "dtype: int64"
      ]
     },
     "execution_count": 592,
     "metadata": {},
     "output_type": "execute_result"
    }
   ],
   "source": [
    "# Comprobar nulos\n",
    "olist_products_dataset.isnull().sum()"
   ]
  },
  {
   "cell_type": "code",
   "execution_count": 593,
   "id": "703e352e",
   "metadata": {},
   "outputs": [],
   "source": [
    "# Cambiar los nulos por la mediana de cada columna\n",
    "olist_products_dataset['product_name_lenght'].fillna(olist_products_dataset['product_name_lenght'].median(), inplace=True)\n",
    "olist_products_dataset['product_description_lenght'].fillna(olist_products_dataset['product_description_lenght'].median(), inplace=True)\n",
    "olist_products_dataset['product_photos_qty'].fillna(olist_products_dataset['product_photos_qty'].median(), inplace=True)\n",
    "olist_products_dataset['product_weight_g'].fillna(olist_products_dataset['product_weight_g'].median(), inplace=True)\n",
    "olist_products_dataset['product_length_cm'].fillna(olist_products_dataset['product_length_cm'].median(), inplace=True)\n",
    "olist_products_dataset['product_height_cm'].fillna(olist_products_dataset['product_height_cm'].median(), inplace=True)\n",
    "olist_products_dataset['product_width_cm'].fillna(olist_products_dataset['product_width_cm'].median(), inplace=True)"
   ]
  },
  {
   "cell_type": "code",
   "execution_count": 594,
   "id": "e502cdb3",
   "metadata": {},
   "outputs": [
    {
     "data": {
      "text/plain": [
       "product_id                    0\n",
       "product_category_name         0\n",
       "product_name_lenght           0\n",
       "product_description_lenght    0\n",
       "product_photos_qty            0\n",
       "product_weight_g              0\n",
       "product_length_cm             0\n",
       "product_height_cm             0\n",
       "product_width_cm              0\n",
       "dtype: int64"
      ]
     },
     "execution_count": 594,
     "metadata": {},
     "output_type": "execute_result"
    }
   ],
   "source": [
    "# Comprobar nulos de nuevo para ver si se han quitado\n",
    "olist_products_dataset.isnull().sum()"
   ]
  },
  {
   "cell_type": "code",
   "execution_count": 595,
   "id": "4eee6160",
   "metadata": {},
   "outputs": [
    {
     "data": {
      "text/plain": [
       "product_name_lenght           0\n",
       "product_description_lenght    0\n",
       "product_photos_qty            0\n",
       "product_weight_g              0\n",
       "product_length_cm             0\n",
       "product_height_cm             0\n",
       "product_width_cm              0\n",
       "dtype: int64"
      ]
     },
     "execution_count": 595,
     "metadata": {},
     "output_type": "execute_result"
    }
   ],
   "source": [
    "# Comprobar si hay negativos\n",
    "columnas_numericas = olist_products_dataset.select_dtypes(include=['number'])\n",
    "\n",
    "negativos = columnas_numericas < 0\n",
    "\n",
    "negativos.sum()"
   ]
  },
  {
   "cell_type": "code",
   "execution_count": 596,
   "id": "eebdb03e",
   "metadata": {},
   "outputs": [
    {
     "data": {
      "text/plain": [
       "0                               perfumaria\n",
       "1                                    artes\n",
       "2                            esporte_lazer\n",
       "3                                    bebes\n",
       "4                    utilidades_domesticas\n",
       "                       ...                \n",
       "32946                     moveis_decoracao\n",
       "32947    construcao_ferramentas_iluminacao\n",
       "32948                      cama_mesa_banho\n",
       "32949               informatica_acessorios\n",
       "32950                      cama_mesa_banho\n",
       "Name: product_category_name, Length: 32951, dtype: object"
      ]
     },
     "execution_count": 596,
     "metadata": {},
     "output_type": "execute_result"
    }
   ],
   "source": [
    "# Quitar tildes\n",
    "olist_products_dataset['product_category_name'].str.normalize('NFKD').str.encode('ascii', errors='ignore').str.decode('utf-8')"
   ]
  },
  {
   "cell_type": "code",
   "execution_count": 597,
   "id": "0bc50edc",
   "metadata": {},
   "outputs": [
    {
     "data": {
      "text/plain": [
       "0"
      ]
     },
     "execution_count": 597,
     "metadata": {},
     "output_type": "execute_result"
    }
   ],
   "source": [
    "# Comprobar filas duplicadas\n",
    "olist_products_dataset.duplicated().sum()"
   ]
  },
  {
   "cell_type": "code",
   "execution_count": 598,
   "id": "2dcb8822",
   "metadata": {},
   "outputs": [],
   "source": [
    "# Pasar todo a minúsculas\n",
    "olist_products_dataset['product_category_name'] = olist_products_dataset['product_category_name'].str.lower()"
   ]
  },
  {
   "cell_type": "code",
   "execution_count": 599,
   "id": "dfefa056",
   "metadata": {},
   "outputs": [],
   "source": [
    "# Obtener csv limpio\n",
    "olist_products_dataset.to_csv(\"olist_products_dataset.csv\")"
   ]
  }
 ],
 "metadata": {
  "kernelspec": {
   "display_name": "Python 3",
   "language": "python",
   "name": "python3"
  },
  "language_info": {
   "codemirror_mode": {
    "name": "ipython",
    "version": 3
   },
   "file_extension": ".py",
   "mimetype": "text/x-python",
   "name": "python",
   "nbconvert_exporter": "python",
   "pygments_lexer": "ipython3",
   "version": "3.11.9"
  }
 },
 "nbformat": 4,
 "nbformat_minor": 5
}
