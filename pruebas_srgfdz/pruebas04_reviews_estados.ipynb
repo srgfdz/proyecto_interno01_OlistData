{
 "cells": [
  {
   "cell_type": "code",
   "execution_count": 77,
   "id": "fede8e27",
   "metadata": {},
   "outputs": [
    {
     "name": "stdout",
     "output_type": "stream",
     "text": [
      "<class 'pandas.core.frame.DataFrame'>\n",
      "RangeIndex: 99441 entries, 0 to 99440\n",
      "Data columns (total 9 columns):\n",
      " #   Column                         Non-Null Count  Dtype \n",
      "---  ------                         --------------  ----- \n",
      " 0   order_id                       99441 non-null  object\n",
      " 1   customer_id                    99441 non-null  object\n",
      " 2   order_status                   99441 non-null  object\n",
      " 3   order_purchase_timestamp       99441 non-null  object\n",
      " 4   order_approved_at              99281 non-null  object\n",
      " 5   order_delivered_carrier_date   97658 non-null  object\n",
      " 6   order_delivered_customer_date  96476 non-null  object\n",
      " 7   order_estimated_delivery_date  99441 non-null  object\n",
      " 8   tiempo_entrega                 96476 non-null  object\n",
      "dtypes: object(9)\n",
      "memory usage: 6.8+ MB\n"
     ]
    }
   ],
   "source": [
    "import pandas as pd\n",
    "\n",
    "df_customers = pd.read_csv('./../datasets_limpios/olist_order_customer.csv')\n",
    "df_orders = pd.read_csv('./../datasets_limpios/olist_orders_dataset.csv')\n",
    "df_reviews = pd.read_csv('./../datasets_limpios/olist_order_reviews_dataset_clean.csv')\n",
    "\n",
    "df_orders.info()"
   ]
  },
  {
   "cell_type": "code",
   "execution_count": 78,
   "id": "267faee2",
   "metadata": {},
   "outputs": [
    {
     "name": "stdout",
     "output_type": "stream",
     "text": [
      "<class 'pandas.core.frame.DataFrame'>\n",
      "RangeIndex: 99224 entries, 0 to 99223\n",
      "Data columns (total 7 columns):\n",
      " #   Column                   Non-Null Count  Dtype \n",
      "---  ------                   --------------  ----- \n",
      " 0   review_id                99224 non-null  object\n",
      " 1   order_id                 99224 non-null  object\n",
      " 2   review_score             99224 non-null  int64 \n",
      " 3   review_comment_title     99224 non-null  object\n",
      " 4   review_comment_message   99224 non-null  object\n",
      " 5   review_creation_date     99224 non-null  object\n",
      " 6   review_answer_timestamp  99224 non-null  object\n",
      "dtypes: int64(1), object(6)\n",
      "memory usage: 5.3+ MB\n"
     ]
    }
   ],
   "source": [
    "df_reviews.info()\n"
   ]
  },
  {
   "cell_type": "code",
   "execution_count": 79,
   "id": "6df4b236",
   "metadata": {},
   "outputs": [
    {
     "name": "stdout",
     "output_type": "stream",
     "text": [
      "<class 'pandas.core.frame.DataFrame'>\n",
      "RangeIndex: 99441 entries, 0 to 99440\n",
      "Data columns (total 5 columns):\n",
      " #   Column                    Non-Null Count  Dtype \n",
      "---  ------                    --------------  ----- \n",
      " 0   customer_id               99441 non-null  object\n",
      " 1   customer_unique_id        99441 non-null  object\n",
      " 2   customer_zip_code_prefix  99441 non-null  int64 \n",
      " 3   customer_city             99441 non-null  object\n",
      " 4   customer_state            99441 non-null  object\n",
      "dtypes: int64(1), object(4)\n",
      "memory usage: 3.8+ MB\n"
     ]
    }
   ],
   "source": [
    "df_customers.info()\n"
   ]
  },
  {
   "cell_type": "code",
   "execution_count": 80,
   "id": "b930b791",
   "metadata": {},
   "outputs": [
    {
     "name": "stdout",
     "output_type": "stream",
     "text": [
      "                          review_id                          order_id  \\\n",
      "0  7bc2406110b926393aa56f80a40eba40  73fc7af87114b39712e6da79b0a377eb   \n",
      "1  80e641a11e56f04c1ad469d5645fdfde  a548910a1c6147796b98fdf73dbeba33   \n",
      "2  228ce5500dc1d8e020d8d1322874b6f0  f9e4b658b201a9f2ecdecbb34bed034b   \n",
      "3  e64fb393e7b32834bb789ff8bb30750e  658677c97b385a9be170737859d3511b   \n",
      "4  f7c4243c7fe1938f181bec41a392bdeb  8e6bfb81e283fa7e4f11123a3fb894f1   \n",
      "\n",
      "   review_score review_comment_title  \\\n",
      "0             4             no title   \n",
      "1             5             no title   \n",
      "2             5             no title   \n",
      "3             5             no title   \n",
      "4             5             no title   \n",
      "\n",
      "                              review_comment_message  \\\n",
      "0                                         no comment   \n",
      "1                                         no comment   \n",
      "2                                         no comment   \n",
      "3              Recebi bem antes do prazo estipulado.   \n",
      "4  Parabéns lojas lannister adorei comprar pela I...   \n",
      "\n",
      "         review_creation_date     review_answer_timestamp  \\\n",
      "0  2018-01-18T00:00:00.000000  2018-01-18T21:46:59.000000   \n",
      "1  2018-03-10T00:00:00.000000  2018-03-11T03:05:13.000000   \n",
      "2  2018-02-17T00:00:00.000000  2018-02-18T14:36:24.000000   \n",
      "3  2017-04-21T00:00:00.000000  2017-04-21T22:02:06.000000   \n",
      "4  2018-03-01T00:00:00.000000  2018-03-02T10:26:53.000000   \n",
      "\n",
      "                        customer_id order_status order_purchase_timestamp  \\\n",
      "0  41dcb106f807e993532d446263290104    delivered      2018-01-11 15:30:49   \n",
      "1  8a2e7ef9053dea531e4dc76bd6d853e6    delivered      2018-02-28 12:25:19   \n",
      "2  e226dfed6544df5b7b87a48208690feb    delivered      2018-02-03 09:56:22   \n",
      "3  de6dff97e5f1ba84a3cd9a3bc97df5f6    delivered      2017-04-09 17:41:13   \n",
      "4  5986b333ca0d44534a156a52a8e33a83    delivered      2018-02-10 10:59:03   \n",
      "\n",
      "     order_approved_at order_delivered_carrier_date  \\\n",
      "0  2018-01-11 15:47:59          2018-01-12 21:57:22   \n",
      "1  2018-02-28 12:48:39          2018-03-02 19:08:15   \n",
      "2  2018-02-03 10:33:41          2018-02-06 16:18:28   \n",
      "3  2017-04-09 17:55:19          2017-04-10 14:24:47   \n",
      "4  2018-02-10 15:48:21          2018-02-15 19:36:14   \n",
      "\n",
      "  order_delivered_customer_date order_estimated_delivery_date  \\\n",
      "0           2018-01-17 18:42:41                    2018-02-02   \n",
      "1           2018-03-09 23:17:20                    2018-03-14   \n",
      "2           2018-02-16 17:28:48                    2018-03-09   \n",
      "3           2017-04-20 09:08:35                    2017-05-10   \n",
      "4           2018-02-28 16:33:35                    2018-03-09   \n",
      "\n",
      "     tiempo_entrega                customer_unique_id  \\\n",
      "0   6 days 03:11:52  68a5590b9926689be4e10f4ae2db21a8   \n",
      "1   9 days 10:52:01  64190b91b656ab8f37eb89b93dc84584   \n",
      "2  13 days 07:32:26  1d47144362c14e94ccdd213e8ec277d5   \n",
      "3  10 days 15:27:22  c8cf6cb6b838dc7a33ed199b825e8616   \n",
      "4  18 days 05:34:32  d16000272660a1fef81482ad75ba572a   \n",
      "\n",
      "   customer_zip_code_prefix           customer_city customer_state  \n",
      "0                      6030                  osasco             sp  \n",
      "1                     13380             nova odessa             sp  \n",
      "2                     44571  santo antonio de jesus             ba  \n",
      "3                     88735                gravatal             sc  \n",
      "4                     89520             curitibanos             sc  \n",
      "<class 'pandas.core.frame.DataFrame'>\n",
      "RangeIndex: 99224 entries, 0 to 99223\n",
      "Data columns (total 19 columns):\n",
      " #   Column                         Non-Null Count  Dtype \n",
      "---  ------                         --------------  ----- \n",
      " 0   review_id                      99224 non-null  object\n",
      " 1   order_id                       99224 non-null  object\n",
      " 2   review_score                   99224 non-null  int64 \n",
      " 3   review_comment_title           99224 non-null  object\n",
      " 4   review_comment_message         99224 non-null  object\n",
      " 5   review_creation_date           99224 non-null  object\n",
      " 6   review_answer_timestamp        99224 non-null  object\n",
      " 7   customer_id                    99224 non-null  object\n",
      " 8   order_status                   99224 non-null  object\n",
      " 9   order_purchase_timestamp       99224 non-null  object\n",
      " 10  order_approved_at              99068 non-null  object\n",
      " 11  order_delivered_carrier_date   97468 non-null  object\n",
      " 12  order_delivered_customer_date  96359 non-null  object\n",
      " 13  order_estimated_delivery_date  99224 non-null  object\n",
      " 14  tiempo_entrega                 96359 non-null  object\n",
      " 15  customer_unique_id             99224 non-null  object\n",
      " 16  customer_zip_code_prefix       99224 non-null  int64 \n",
      " 17  customer_city                  99224 non-null  object\n",
      " 18  customer_state                 99224 non-null  object\n",
      "dtypes: int64(2), object(17)\n",
      "memory usage: 14.4+ MB\n"
     ]
    }
   ],
   "source": [
    "#Junto los dataset con inner para quedarme con las coincidencias solo, ya que necesito campos de todas las tablas para sacar las reviews por estado\n",
    "# Me quedo solo con las columnas necesarias para lo que quiero:\n",
    "\n",
    "df_merge = pd.merge(\n",
    "    pd.merge(df_reviews, df_orders, on='order_id', how='inner'),\n",
    "    df_customers, on='customer_id', how='inner'\n",
    ")\n",
    "\n",
    "print(df_merge.head(5))\n",
    "\n",
    "\n",
    "df_merge.info()"
   ]
  },
  {
   "cell_type": "code",
   "execution_count": 81,
   "id": "193917d9",
   "metadata": {},
   "outputs": [
    {
     "name": "stdout",
     "output_type": "stream",
     "text": [
      "*** Columna 'review_creation_date': convertida con formato %Y-%m-%dT%H:%M:%S.%f ***\n",
      "*** Columna 'review_answer_timestamp': convertida con formato %Y-%m-%dT%H:%M:%S.%f ***\n",
      "*** Columna 'order_purchase_timestamp': convertida con formato %Y-%m-%d %H:%M:%S ***\n",
      "*** Columna 'order_approved_at': convertida con formato %Y-%m-%d %H:%M:%S ***\n",
      "*** Columna 'order_delivered_carrier_date': convertida con formato %Y-%m-%d %H:%M:%S ***\n",
      "*** Columna 'order_delivered_customer_date': convertida con formato %Y-%m-%d %H:%M:%S ***\n",
      "*** Columna 'order_estimated_delivery_date': convertida con formato %Y-%m-%d ***\n",
      "<class 'pandas.core.frame.DataFrame'>\n",
      "RangeIndex: 99224 entries, 0 to 99223\n",
      "Data columns (total 19 columns):\n",
      " #   Column                         Non-Null Count  Dtype         \n",
      "---  ------                         --------------  -----         \n",
      " 0   review_id                      99224 non-null  object        \n",
      " 1   order_id                       99224 non-null  object        \n",
      " 2   review_score                   99224 non-null  int64         \n",
      " 3   review_comment_title           99224 non-null  object        \n",
      " 4   review_comment_message         99224 non-null  object        \n",
      " 5   review_creation_date           99224 non-null  datetime64[ns]\n",
      " 6   review_answer_timestamp        99224 non-null  datetime64[ns]\n",
      " 7   customer_id                    99224 non-null  object        \n",
      " 8   order_status                   99224 non-null  object        \n",
      " 9   order_purchase_timestamp       99224 non-null  datetime64[ns]\n",
      " 10  order_approved_at              99068 non-null  datetime64[ns]\n",
      " 11  order_delivered_carrier_date   97468 non-null  datetime64[ns]\n",
      " 12  order_delivered_customer_date  96359 non-null  datetime64[ns]\n",
      " 13  order_estimated_delivery_date  99224 non-null  datetime64[ns]\n",
      " 14  tiempo_entrega                 96359 non-null  object        \n",
      " 15  customer_unique_id             99224 non-null  object        \n",
      " 16  customer_zip_code_prefix       99224 non-null  int64         \n",
      " 17  customer_city                  99224 non-null  object        \n",
      " 18  customer_state                 99224 non-null  object        \n",
      "dtypes: datetime64[ns](7), int64(2), object(10)\n",
      "memory usage: 14.4+ MB\n"
     ]
    }
   ],
   "source": [
    "#Pongo los tipos de datos datetime para poder sacar una columna con la diferencia entre la fecha estimada y la fecha de entrega\n",
    "def clean_datetime_columns_pandas(\n",
    "    df: pd.DataFrame,\n",
    "    datetime_params: dict = None\n",
    ") -> pd.DataFrame:\n",
    "    \"\"\"\n",
    "    Convierte a datetime SOLO las columnas listadas en datetime_params:\n",
    "      datetime_params = { col_name: format_str, ... }\n",
    "    No hay inferencia automática.\n",
    "    \"\"\"\n",
    "    df = df.copy()\n",
    "    datetime_params = datetime_params or {}\n",
    "\n",
    "    for col, fmt in datetime_params.items():\n",
    "        if col in df.columns:\n",
    "            df[col] = pd.to_datetime(df[col], format=fmt, errors=\"coerce\")\n",
    "            print(f\"*** Columna {col!r}: convertida con formato {fmt} ***\")\n",
    "    return df\n",
    "\n",
    "datetime_params = {\n",
    "        \"review_creation_date\": \"%Y-%m-%dT%H:%M:%S.%f\",\n",
    "        \"review_answer_timestamp\": \"%Y-%m-%dT%H:%M:%S.%f\",\n",
    "        \"order_purchase_timestamp\": \"%Y-%m-%d %H:%M:%S\",\n",
    "        \"order_approved_at\": \"%Y-%m-%d %H:%M:%S\",\n",
    "        \"order_delivered_carrier_date\": \"%Y-%m-%d %H:%M:%S\",\n",
    "        \"order_delivered_customer_date\": \"%Y-%m-%d %H:%M:%S\",\n",
    "        \"order_estimated_delivery_date\": \"%Y-%m-%d\",\n",
    "    }\n",
    "\n",
    "df_merge = clean_datetime_columns_pandas(df_merge, datetime_params)\n",
    "\n",
    "df_merge.info()\n"
   ]
  },
  {
   "cell_type": "code",
   "execution_count": 82,
   "id": "cc716dce",
   "metadata": {},
   "outputs": [
    {
     "name": "stdout",
     "output_type": "stream",
     "text": [
      "<class 'pandas.core.frame.DataFrame'>\n",
      "RangeIndex: 99224 entries, 0 to 99223\n",
      "Data columns (total 20 columns):\n",
      " #   Column                         Non-Null Count  Dtype         \n",
      "---  ------                         --------------  -----         \n",
      " 0   review_id                      99224 non-null  object        \n",
      " 1   order_id                       99224 non-null  object        \n",
      " 2   review_score                   99224 non-null  int64         \n",
      " 3   review_comment_title           99224 non-null  object        \n",
      " 4   review_comment_message         99224 non-null  object        \n",
      " 5   review_creation_date           99224 non-null  datetime64[ns]\n",
      " 6   review_answer_timestamp        99224 non-null  datetime64[ns]\n",
      " 7   customer_id                    99224 non-null  object        \n",
      " 8   order_status                   99224 non-null  object        \n",
      " 9   order_purchase_timestamp       99224 non-null  datetime64[ns]\n",
      " 10  order_approved_at              99068 non-null  datetime64[ns]\n",
      " 11  order_delivered_carrier_date   97468 non-null  datetime64[ns]\n",
      " 12  order_delivered_customer_date  96359 non-null  datetime64[ns]\n",
      " 13  order_estimated_delivery_date  99224 non-null  datetime64[ns]\n",
      " 14  tiempo_entrega                 96359 non-null  object        \n",
      " 15  customer_unique_id             99224 non-null  object        \n",
      " 16  customer_zip_code_prefix       99224 non-null  int64         \n",
      " 17  customer_city                  99224 non-null  object        \n",
      " 18  customer_state                 99224 non-null  object        \n",
      " 19  dias_retraso                   96359 non-null  Int64         \n",
      "dtypes: Int64(1), datetime64[ns](7), int64(2), object(10)\n",
      "memory usage: 15.2+ MB\n",
      "None\n"
     ]
    }
   ],
   "source": [
    "df_merge['dias_retraso'] = (\n",
    "    df_merge['order_delivered_customer_date'].dt.floor('D') - df_merge['order_estimated_delivery_date']\n",
    ").dt.days.astype('Int64')\n",
    "\n",
    "print(df_merge.info())"
   ]
  },
  {
   "cell_type": "code",
   "execution_count": null,
   "id": "a0c9b762",
   "metadata": {},
   "outputs": [
    {
     "name": "stdout",
     "output_type": "stream",
     "text": [
      "(99441, 5)\n",
      "(15540, 5)\n",
      "(93099, 5)\n",
      "(1355, 5)\n",
      "96096\n",
      "<class 'pandas.core.frame.DataFrame'>\n",
      "RangeIndex: 99441 entries, 0 to 99440\n",
      "Data columns (total 5 columns):\n",
      " #   Column                    Non-Null Count  Dtype \n",
      "---  ------                    --------------  ----- \n",
      " 0   customer_id               99441 non-null  object\n",
      " 1   customer_unique_id        99441 non-null  object\n",
      " 2   customer_zip_code_prefix  99441 non-null  int64 \n",
      " 3   customer_city             99441 non-null  object\n",
      " 4   customer_state            99441 non-null  object\n",
      "dtypes: int64(1), object(4)\n",
      "memory usage: 3.8+ MB\n"
     ]
    }
   ],
   "source": [
    "df_customers = pd.read_csv('./../datasets_limpios/olist_order_customer.csv')\n",
    "\n",
    "df_unique_customers = df_customers.groupby('customer_unique_id').filter(lambda x: len(x) == 1)\n",
    "print(df_customers.shape)\n",
    "a = df_customers[df_customers['customer_city'] == 'sao paulo']\n",
    "print(a.shape)\n",
    "\n",
    "print(df_unique_customers.shape)\n",
    "\n",
    "\n",
    "a = df_unique_customers[df_unique_customers['customer_city'] == 'campinas']\n",
    "\n",
    "print(a.shape)\n",
    "\n",
    "\n",
    "bd = df_customers['customer_unique_id'].nunique()\n",
    "\n",
    "print(bd)\n",
    "df_customers.info()\n",
    "df_customers"
   ]
  },
  {
   "cell_type": "code",
   "execution_count": 90,
   "id": "5f60a9e5",
   "metadata": {},
   "outputs": [
    {
     "name": "stdout",
     "output_type": "stream",
     "text": [
      "                             seller_id  seller_zip_code_prefix  \\\n",
      "0     3442f8959a84dea7ee197c632cb2df15                   13023   \n",
      "1     d1b65fc7debc3361ea86b5f14c68d2e2                   13844   \n",
      "2     ce3ad9de960102d0677a81f5d0bb7b2d                   20031   \n",
      "3     c0f3eea2e14555b6faeea3dd58c1b1c3                    4195   \n",
      "4     51a04a8a6bdcb23deccc82b0b80742cf                   12914   \n",
      "...                                ...                     ...   \n",
      "3090  98dddbc4601dd4443ca174359b237166                   87111   \n",
      "3091  f8201cab383e484733266d1906e2fdfa                   88137   \n",
      "3092  74871d19219c7d518d0090283e03c137                    4650   \n",
      "3093  e603cf3fec55f8697c9059638d6c8eb5                   96080   \n",
      "3094  9e25199f6ef7e7c347120ff175652c3b                   12051   \n",
      "\n",
      "            seller_city seller_state  \n",
      "0              campinas           sp  \n",
      "1            mogi guacu           sp  \n",
      "2        rio de janeiro           rj  \n",
      "3             sao paulo           sp  \n",
      "4     braganca paulista           sp  \n",
      "...                 ...          ...  \n",
      "3090            sarandi           pr  \n",
      "3091            palhoca           sc  \n",
      "3092          sao paulo           sp  \n",
      "3093            pelotas           rs  \n",
      "3094            taubate           sp  \n",
      "\n",
      "[3095 rows x 4 columns]\n"
     ]
    }
   ],
   "source": [
    "df_sellers = pd.read_csv('./../datasets_limpios/olist_sellers_dataset.csv')\n",
    "print(df_sellers)"
   ]
  },
  {
   "cell_type": "code",
   "execution_count": 84,
   "id": "35affe2a",
   "metadata": {},
   "outputs": [
    {
     "data": {
      "application/vnd.microsoft.datawrangler.viewer.v0+json": {
       "columns": [
        {
         "name": "index",
         "rawType": "int64",
         "type": "integer"
        },
        {
         "name": "customer_id",
         "rawType": "object",
         "type": "string"
        },
        {
         "name": "customer_unique_id",
         "rawType": "object",
         "type": "string"
        },
        {
         "name": "customer_zip_code_prefix",
         "rawType": "int64",
         "type": "integer"
        },
        {
         "name": "customer_city",
         "rawType": "object",
         "type": "string"
        },
        {
         "name": "customer_state",
         "rawType": "object",
         "type": "string"
        }
       ],
       "conversionMethod": "pd.DataFrame",
       "ref": "e87dc07e-0648-4f57-9d44-4e346c2f2356",
       "rows": [
        [
         "35608",
         "24b0e2bd287e47d54d193e7bbb51103f",
         "00172711b30d52eea8b313a7f2cced02",
         "45200",
         "jequie",
         "ba"
        ],
        [
         "19299",
         "1afe8a9c67eec3516c09a8bdcc539090",
         "00172711b30d52eea8b313a7f2cced02",
         "45200",
         "jequie",
         "ba"
        ],
        [
         "20023",
         "1b4a75b3478138e99902678254b260f4",
         "004288347e5e88a27ded2bb23747066c",
         "26220",
         "nova iguacu",
         "rj"
        ],
        [
         "22066",
         "f6efe5d5c7b85e12355f9d5c3db46da2",
         "004288347e5e88a27ded2bb23747066c",
         "26220",
         "nova iguacu",
         "rj"
        ],
        [
         "72451",
         "49cf243e0d353cd418ca77868e24a670",
         "004b45ec5c64187465168251cd1c9c2f",
         "57055",
         "maceio",
         "al"
        ],
        [
         "87012",
         "d95f60d70d9ea9a7fe37c53c931940bb",
         "004b45ec5c64187465168251cd1c9c2f",
         "57035",
         "maceio",
         "al"
        ],
        [
         "36269",
         "8ac44e9c15d396b8c3c7cbab0fff4536",
         "0058f300f57d7b93c477a131a59b36c3",
         "41370",
         "salvador",
         "ba"
        ],
        [
         "61403",
         "f530197ea86ced9488a03d055e118ebf",
         "0058f300f57d7b93c477a131a59b36c3",
         "40731",
         "salvador",
         "ba"
        ],
        [
         "87414",
         "cbb68c721ba9ddb30d8a490cc1897fa1",
         "00a39521eb40f7012db50455bf083460",
         "72595",
         "brasilia",
         "df"
        ],
        [
         "54881",
         "876356df457f952458a764348e1858bc",
         "00a39521eb40f7012db50455bf083460",
         "72595",
         "brasilia",
         "df"
        ],
        [
         "672",
         "102fc0966044243157bb81e4ee0a251e",
         "00cc12a6d8b578b8ebd21ea4e2ae8b27",
         "3178",
         "sao paulo",
         "sp"
        ],
        [
         "8960",
         "c0a44bf37d5601228051fc07852f951f",
         "00cc12a6d8b578b8ebd21ea4e2ae8b27",
         "3178",
         "sao paulo",
         "sp"
        ],
        [
         "4034",
         "71c7265705afd84d030d6adc3122d8dd",
         "011575986092c30523ecb71ff10cb473",
         "30660",
         "belo horizonte",
         "mg"
        ],
        [
         "58583",
         "bc4011fd2a5106761b5ba943c8fbd1b2",
         "011575986092c30523ecb71ff10cb473",
         "30660",
         "belo horizonte",
         "mg"
        ],
        [
         "90152",
         "3db635076c27c1d6a8618bc5a6e70ad2",
         "011b4adcd54683b480c4d841250a987f",
         "44200",
         "santo amaro",
         "ba"
        ],
        [
         "96494",
         "7e16c78f08de9b2ec5b9eff657934019",
         "011b4adcd54683b480c4d841250a987f",
         "44200",
         "santo amaro",
         "ba"
        ],
        [
         "54038",
         "e024c1515b1062b1e7e613f840c35ba3",
         "012452d40dafae4df401bced74cdb490",
         "3984",
         "sao paulo",
         "sp"
        ],
        [
         "45307",
         "f8e05a045de09e7855c9df3bb8815e0e",
         "012452d40dafae4df401bced74cdb490",
         "3220",
         "sao paulo",
         "sp"
        ],
        [
         "52526",
         "c276d4ce04e35d109575d3282cd2bd20",
         "012a218df8995d3ec3bb221828360c86",
         "6550",
         "pirapora do bom jesus",
         "sp"
        ],
        [
         "12966",
         "e4bee874d6368c127e7ca2a6fd7545ff",
         "012a218df8995d3ec3bb221828360c86",
         "6550",
         "pirapora do bom jesus",
         "sp"
        ],
        [
         "58315",
         "d4f243fba8f7e8213c43f98eb04b6213",
         "013ef03e0f3f408dd9bf555e4edcdc0a",
         "13092",
         "campinas",
         "sp"
        ],
        [
         "51266",
         "450a869eb52446baa38f4beeecbc5843",
         "013ef03e0f3f408dd9bf555e4edcdc0a",
         "13092",
         "campinas",
         "sp"
        ],
        [
         "71744",
         "13e7480f7e6534616eca292f8267ef56",
         "013f4353d26bb05dc6652f1269458d8d",
         "44065",
         "feira de santana",
         "ba"
        ],
        [
         "47420",
         "94074895c5b185e9642b1a66a3ef05a7",
         "013f4353d26bb05dc6652f1269458d8d",
         "44065",
         "feira de santana",
         "ba"
        ],
        [
         "86613",
         "0e94fdb092e81e1a604cca2ddbad0825",
         "015557c9912277312b9073947804a7ba",
         "13870",
         "sao joao da boa vista",
         "sp"
        ],
        [
         "19704",
         "4aeab499f910ba9d5d5c8ae745546b7e",
         "015557c9912277312b9073947804a7ba",
         "13870",
         "sao joao da boa vista",
         "sp"
        ],
        [
         "91727",
         "483468a56a54dbbbf8f2b2354cc8a729",
         "0178b244a5c281fb2ade54038dd4b161",
         "12518",
         "guaratingueta",
         "sp"
        ],
        [
         "57218",
         "ea6ba2b2e27f7efea73bdeab7fd6e4a0",
         "0178b244a5c281fb2ade54038dd4b161",
         "14960",
         "novo horizonte",
         "sp"
        ],
        [
         "82268",
         "306e7f5a781430174600acfec52a1843",
         "01886ef98f995e4f2dd75a1d04c97397",
         "1240",
         "sao paulo",
         "sp"
        ],
        [
         "82060",
         "7f6a3aaafc26964ec75650f5b487de99",
         "01886ef98f995e4f2dd75a1d04c97397",
         "1240",
         "sao paulo",
         "sp"
        ],
        [
         "64800",
         "b98e0d5aca458a26a6ff30fee0416ca2",
         "018b5a7502c30eb5f230f1b4eb23a156",
         "74976",
         "aparecida de goiania",
         "go"
        ],
        [
         "82312",
         "026ca919d538ee454a6d43fc8bd01de0",
         "018b5a7502c30eb5f230f1b4eb23a156",
         "74936",
         "aparecida de goiania",
         "go"
        ],
        [
         "20936",
         "e98d4459ce911f6ae3aa3c9c0f3d94bd",
         "01a22e2079ea71e17313b88e5811e54a",
         "13215",
         "jundiai",
         "sp"
        ],
        [
         "76668",
         "6aa38fdee597dd9814ab987b44cbda55",
         "01a22e2079ea71e17313b88e5811e54a",
         "13215",
         "jundiai",
         "sp"
        ],
        [
         "41008",
         "2c2917bd12c5663dde831f0a22df9caa",
         "01c289bb06354cdc7e6549570f20ada4",
         "58051",
         "joao pessoa",
         "pb"
        ],
        [
         "21648",
         "5586f979cd49ae9f5a78c57f6eccd8cd",
         "01c289bb06354cdc7e6549570f20ada4",
         "58051",
         "joao pessoa",
         "pb"
        ],
        [
         "19164",
         "aa5ca8afef8fe0f0ef822a9da12d2cf1",
         "01ea7dfdac01a4e8fbe2902b73510b20",
         "22220",
         "rio de janeiro",
         "rj"
        ],
        [
         "39237",
         "c69c846746a623c12b98b6162c3dd725",
         "01ea7dfdac01a4e8fbe2902b73510b20",
         "22220",
         "rio de janeiro",
         "rj"
        ],
        [
         "93844",
         "7d5e98a2e485f0735beee6e2d1c43e0e",
         "01f2285f85a1c603eb7ef755ad311769",
         "35162",
         "ipatinga",
         "mg"
        ],
        [
         "49059",
         "85f6549a336f5dc9e1cd95fc23d2b60b",
         "01f2285f85a1c603eb7ef755ad311769",
         "35162",
         "ipatinga",
         "mg"
        ],
        [
         "28026",
         "7ff28e5763744b926226d1e9ec551062",
         "02168ea18740a0fdaaa15f11bebba5db",
         "97015",
         "santa maria",
         "rs"
        ],
        [
         "81118",
         "dcf9da02825b471237d9f83bd0c39fe6",
         "02168ea18740a0fdaaa15f11bebba5db",
         "97015",
         "santa maria",
         "rs"
        ],
        [
         "70445",
         "e22aed657258e707c7bfdaf734971ba0",
         "0241fa2e9adf0576cb0f845377d05c03",
         "44573",
         "santo antonio de jesus",
         "ba"
        ],
        [
         "73028",
         "216360d7df0e08d493f369b39a5fb69a",
         "0241fa2e9adf0576cb0f845377d05c03",
         "44573",
         "santo antonio de jesus",
         "ba"
        ],
        [
         "40430",
         "5d146b89f4c6cca290b3470a4bb12bcf",
         "027803eb28cc01fbdf5da72b109fabee",
         "90010",
         "porto alegre",
         "rs"
        ],
        [
         "8885",
         "faba85ebc5cfe2a7bb060d3287493701",
         "027803eb28cc01fbdf5da72b109fabee",
         "90010",
         "porto alegre",
         "rs"
        ],
        [
         "1234",
         "460120cb864985d447516e2a69e244c0",
         "029b457bd01199c39136f89e0eddcd3a",
         "65620",
         "coelho neto",
         "ma"
        ],
        [
         "38689",
         "a382d42829c2c119982c1eb049e6a8bf",
         "029b457bd01199c39136f89e0eddcd3a",
         "65620",
         "coelho neto",
         "ma"
        ],
        [
         "9273",
         "c2dcd18bfda62523dbd2c53ead8b5fe8",
         "02b20b7c813efede140142ac610e36dc",
         "3337",
         "sao paulo",
         "sp"
        ],
        [
         "97754",
         "f227e7071caf55fbd19620ad628aa80e",
         "02b20b7c813efede140142ac610e36dc",
         "3337",
         "sao paulo",
         "sp"
        ]
       ],
       "shape": {
        "columns": 5,
        "rows": 6342
       }
      },
      "text/html": [
       "<div>\n",
       "<style scoped>\n",
       "    .dataframe tbody tr th:only-of-type {\n",
       "        vertical-align: middle;\n",
       "    }\n",
       "\n",
       "    .dataframe tbody tr th {\n",
       "        vertical-align: top;\n",
       "    }\n",
       "\n",
       "    .dataframe thead th {\n",
       "        text-align: right;\n",
       "    }\n",
       "</style>\n",
       "<table border=\"1\" class=\"dataframe\">\n",
       "  <thead>\n",
       "    <tr style=\"text-align: right;\">\n",
       "      <th></th>\n",
       "      <th>customer_id</th>\n",
       "      <th>customer_unique_id</th>\n",
       "      <th>customer_zip_code_prefix</th>\n",
       "      <th>customer_city</th>\n",
       "      <th>customer_state</th>\n",
       "    </tr>\n",
       "  </thead>\n",
       "  <tbody>\n",
       "    <tr>\n",
       "      <th>35608</th>\n",
       "      <td>24b0e2bd287e47d54d193e7bbb51103f</td>\n",
       "      <td>00172711b30d52eea8b313a7f2cced02</td>\n",
       "      <td>45200</td>\n",
       "      <td>jequie</td>\n",
       "      <td>ba</td>\n",
       "    </tr>\n",
       "    <tr>\n",
       "      <th>19299</th>\n",
       "      <td>1afe8a9c67eec3516c09a8bdcc539090</td>\n",
       "      <td>00172711b30d52eea8b313a7f2cced02</td>\n",
       "      <td>45200</td>\n",
       "      <td>jequie</td>\n",
       "      <td>ba</td>\n",
       "    </tr>\n",
       "    <tr>\n",
       "      <th>20023</th>\n",
       "      <td>1b4a75b3478138e99902678254b260f4</td>\n",
       "      <td>004288347e5e88a27ded2bb23747066c</td>\n",
       "      <td>26220</td>\n",
       "      <td>nova iguacu</td>\n",
       "      <td>rj</td>\n",
       "    </tr>\n",
       "    <tr>\n",
       "      <th>22066</th>\n",
       "      <td>f6efe5d5c7b85e12355f9d5c3db46da2</td>\n",
       "      <td>004288347e5e88a27ded2bb23747066c</td>\n",
       "      <td>26220</td>\n",
       "      <td>nova iguacu</td>\n",
       "      <td>rj</td>\n",
       "    </tr>\n",
       "    <tr>\n",
       "      <th>72451</th>\n",
       "      <td>49cf243e0d353cd418ca77868e24a670</td>\n",
       "      <td>004b45ec5c64187465168251cd1c9c2f</td>\n",
       "      <td>57055</td>\n",
       "      <td>maceio</td>\n",
       "      <td>al</td>\n",
       "    </tr>\n",
       "    <tr>\n",
       "      <th>...</th>\n",
       "      <td>...</td>\n",
       "      <td>...</td>\n",
       "      <td>...</td>\n",
       "      <td>...</td>\n",
       "      <td>...</td>\n",
       "    </tr>\n",
       "    <tr>\n",
       "      <th>75057</th>\n",
       "      <td>1ae563fdfa500d150be6578066d83998</td>\n",
       "      <td>ff922bdd6bafcdf99cb90d7f39cea5b3</td>\n",
       "      <td>17340</td>\n",
       "      <td>barra bonita</td>\n",
       "      <td>sp</td>\n",
       "    </tr>\n",
       "    <tr>\n",
       "      <th>27992</th>\n",
       "      <td>bec0bf00ac5bee64ce8ef5283051a70c</td>\n",
       "      <td>ff922bdd6bafcdf99cb90d7f39cea5b3</td>\n",
       "      <td>17340</td>\n",
       "      <td>barra bonita</td>\n",
       "      <td>sp</td>\n",
       "    </tr>\n",
       "    <tr>\n",
       "      <th>79859</th>\n",
       "      <td>d064be88116eb8b958727aec4cf56a59</td>\n",
       "      <td>ff922bdd6bafcdf99cb90d7f39cea5b3</td>\n",
       "      <td>17340</td>\n",
       "      <td>barra bonita</td>\n",
       "      <td>sp</td>\n",
       "    </tr>\n",
       "    <tr>\n",
       "      <th>64323</th>\n",
       "      <td>4b231c90751c27521f7ee27ed2dc3b8f</td>\n",
       "      <td>ffe254cc039740e17dd15a5305035928</td>\n",
       "      <td>37640</td>\n",
       "      <td>extrema</td>\n",
       "      <td>mg</td>\n",
       "    </tr>\n",
       "    <tr>\n",
       "      <th>12133</th>\n",
       "      <td>0088395699ea0fcd459bfbef084997db</td>\n",
       "      <td>ffe254cc039740e17dd15a5305035928</td>\n",
       "      <td>37640</td>\n",
       "      <td>extrema</td>\n",
       "      <td>mg</td>\n",
       "    </tr>\n",
       "  </tbody>\n",
       "</table>\n",
       "<p>6342 rows × 5 columns</p>\n",
       "</div>"
      ],
      "text/plain": [
       "                            customer_id                customer_unique_id  \\\n",
       "35608  24b0e2bd287e47d54d193e7bbb51103f  00172711b30d52eea8b313a7f2cced02   \n",
       "19299  1afe8a9c67eec3516c09a8bdcc539090  00172711b30d52eea8b313a7f2cced02   \n",
       "20023  1b4a75b3478138e99902678254b260f4  004288347e5e88a27ded2bb23747066c   \n",
       "22066  f6efe5d5c7b85e12355f9d5c3db46da2  004288347e5e88a27ded2bb23747066c   \n",
       "72451  49cf243e0d353cd418ca77868e24a670  004b45ec5c64187465168251cd1c9c2f   \n",
       "...                                 ...                               ...   \n",
       "75057  1ae563fdfa500d150be6578066d83998  ff922bdd6bafcdf99cb90d7f39cea5b3   \n",
       "27992  bec0bf00ac5bee64ce8ef5283051a70c  ff922bdd6bafcdf99cb90d7f39cea5b3   \n",
       "79859  d064be88116eb8b958727aec4cf56a59  ff922bdd6bafcdf99cb90d7f39cea5b3   \n",
       "64323  4b231c90751c27521f7ee27ed2dc3b8f  ffe254cc039740e17dd15a5305035928   \n",
       "12133  0088395699ea0fcd459bfbef084997db  ffe254cc039740e17dd15a5305035928   \n",
       "\n",
       "       customer_zip_code_prefix customer_city customer_state  \n",
       "35608                     45200        jequie             ba  \n",
       "19299                     45200        jequie             ba  \n",
       "20023                     26220   nova iguacu             rj  \n",
       "22066                     26220   nova iguacu             rj  \n",
       "72451                     57055        maceio             al  \n",
       "...                         ...           ...            ...  \n",
       "75057                     17340  barra bonita             sp  \n",
       "27992                     17340  barra bonita             sp  \n",
       "79859                     17340  barra bonita             sp  \n",
       "64323                     37640       extrema             mg  \n",
       "12133                     37640       extrema             mg  \n",
       "\n",
       "[6342 rows x 5 columns]"
      ]
     },
     "execution_count": 84,
     "metadata": {},
     "output_type": "execute_result"
    }
   ],
   "source": [
    "duplicados_df = df_customers[df_customers.duplicated('customer_unique_id', keep=False)]\n",
    "\n",
    "duplicados_df.sort_values(by='customer_unique_id')"
   ]
  }
 ],
 "metadata": {
  "kernelspec": {
   "display_name": "tema-01",
   "language": "python",
   "name": "python3"
  },
  "language_info": {
   "codemirror_mode": {
    "name": "ipython",
    "version": 3
   },
   "file_extension": ".py",
   "mimetype": "text/x-python",
   "name": "python",
   "nbconvert_exporter": "python",
   "pygments_lexer": "ipython3",
   "version": "3.11.9"
  }
 },
 "nbformat": 4,
 "nbformat_minor": 5
}
