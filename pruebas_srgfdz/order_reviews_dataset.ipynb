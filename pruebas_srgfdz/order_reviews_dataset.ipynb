{
 "cells": [
  {
   "cell_type": "code",
   "execution_count": 14,
   "id": "3f66cca6",
   "metadata": {},
   "outputs": [],
   "source": [
    "import polars as pl\n",
    "import pandas as pd\n",
    "import seaborn as sns\n",
    "import matplotlib.pyplot as plt\n"
   ]
  },
  {
   "cell_type": "code",
   "execution_count": 15,
   "id": "b82bbd60",
   "metadata": {},
   "outputs": [
    {
     "data": {
      "text/html": [
       "<div><style>\n",
       ".dataframe > thead > tr,\n",
       ".dataframe > tbody > tr {\n",
       "  text-align: right;\n",
       "  white-space: pre-wrap;\n",
       "}\n",
       "</style>\n",
       "<small>shape: (99_224, 7)</small><table border=\"1\" class=\"dataframe\"><thead><tr><th>review_id</th><th>order_id</th><th>review_score</th><th>review_comment_title</th><th>review_comment_message</th><th>review_creation_date</th><th>review_answer_timestamp</th></tr><tr><td>str</td><td>str</td><td>i64</td><td>str</td><td>str</td><td>str</td><td>str</td></tr></thead><tbody><tr><td>&quot;7bc2406110b926393aa56f80a40eba…</td><td>&quot;73fc7af87114b39712e6da79b0a377…</td><td>4</td><td>null</td><td>null</td><td>&quot;2018-01-18 00:00:00&quot;</td><td>&quot;2018-01-18 21:46:59&quot;</td></tr><tr><td>&quot;80e641a11e56f04c1ad469d5645fdf…</td><td>&quot;a548910a1c6147796b98fdf73dbeba…</td><td>5</td><td>null</td><td>null</td><td>&quot;2018-03-10 00:00:00&quot;</td><td>&quot;2018-03-11 03:05:13&quot;</td></tr><tr><td>&quot;228ce5500dc1d8e020d8d1322874b6…</td><td>&quot;f9e4b658b201a9f2ecdecbb34bed03…</td><td>5</td><td>null</td><td>null</td><td>&quot;2018-02-17 00:00:00&quot;</td><td>&quot;2018-02-18 14:36:24&quot;</td></tr><tr><td>&quot;e64fb393e7b32834bb789ff8bb3075…</td><td>&quot;658677c97b385a9be170737859d351…</td><td>5</td><td>null</td><td>&quot;Recebi bem antes do prazo esti…</td><td>&quot;2017-04-21 00:00:00&quot;</td><td>&quot;2017-04-21 22:02:06&quot;</td></tr><tr><td>&quot;f7c4243c7fe1938f181bec41a392bd…</td><td>&quot;8e6bfb81e283fa7e4f11123a3fb894…</td><td>5</td><td>null</td><td>&quot;Parabéns lojas lannister adore…</td><td>&quot;2018-03-01 00:00:00&quot;</td><td>&quot;2018-03-02 10:26:53&quot;</td></tr><tr><td>&hellip;</td><td>&hellip;</td><td>&hellip;</td><td>&hellip;</td><td>&hellip;</td><td>&hellip;</td><td>&hellip;</td></tr><tr><td>&quot;574ed12dd733e5fa530cfd4bbf39d7…</td><td>&quot;2a8c23fee101d4d5662fa670396eb8…</td><td>5</td><td>null</td><td>null</td><td>&quot;2018-07-07 00:00:00&quot;</td><td>&quot;2018-07-14 17:18:30&quot;</td></tr><tr><td>&quot;f3897127253a9592a73be9bdfdf4ed…</td><td>&quot;22ec9f0669f784db00fa86d035cf86…</td><td>5</td><td>null</td><td>null</td><td>&quot;2017-12-09 00:00:00&quot;</td><td>&quot;2017-12-11 20:06:42&quot;</td></tr><tr><td>&quot;b3de70c89b1510c4cd3d0649fd3024…</td><td>&quot;55d4004744368f5571d1f590031933…</td><td>5</td><td>null</td><td>&quot;Excelente mochila, entrega sup…</td><td>&quot;2018-03-22 00:00:00&quot;</td><td>&quot;2018-03-23 09:10:43&quot;</td></tr><tr><td>&quot;1adeb9d84d72fe4e337617733eb851…</td><td>&quot;7725825d039fc1f0ceb7635e3f7d92…</td><td>4</td><td>null</td><td>null</td><td>&quot;2018-07-01 00:00:00&quot;</td><td>&quot;2018-07-02 12:59:13&quot;</td></tr><tr><td>&quot;efe49f1d6f951dd88b51e6ccd4cc54…</td><td>&quot;90531360ecb1eec2a1fbb265a0db05…</td><td>1</td><td>null</td><td>&quot;meu produto chegou e ja tenho …</td><td>&quot;2017-07-03 00:00:00&quot;</td><td>&quot;2017-07-03 21:01:49&quot;</td></tr></tbody></table></div>"
      ],
      "text/plain": [
       "shape: (99_224, 7)\n",
       "┌──────────────┬─────────────┬─────────────┬─────────────┬─────────────┬─────────────┬─────────────┐\n",
       "│ review_id    ┆ order_id    ┆ review_scor ┆ review_comm ┆ review_comm ┆ review_crea ┆ review_answ │\n",
       "│ ---          ┆ ---         ┆ e           ┆ ent_title   ┆ ent_message ┆ tion_date   ┆ er_timestam │\n",
       "│ str          ┆ str         ┆ ---         ┆ ---         ┆ ---         ┆ ---         ┆ p           │\n",
       "│              ┆             ┆ i64         ┆ str         ┆ str         ┆ str         ┆ ---         │\n",
       "│              ┆             ┆             ┆             ┆             ┆             ┆ str         │\n",
       "╞══════════════╪═════════════╪═════════════╪═════════════╪═════════════╪═════════════╪═════════════╡\n",
       "│ 7bc2406110b9 ┆ 73fc7af8711 ┆ 4           ┆ null        ┆ null        ┆ 2018-01-18  ┆ 2018-01-18  │\n",
       "│ 26393aa56f80 ┆ 4b39712e6da ┆             ┆             ┆             ┆ 00:00:00    ┆ 21:46:59    │\n",
       "│ a40eba…      ┆ 79b0a377…   ┆             ┆             ┆             ┆             ┆             │\n",
       "│ 80e641a11e56 ┆ a548910a1c6 ┆ 5           ┆ null        ┆ null        ┆ 2018-03-10  ┆ 2018-03-11  │\n",
       "│ f04c1ad469d5 ┆ 147796b98fd ┆             ┆             ┆             ┆ 00:00:00    ┆ 03:05:13    │\n",
       "│ 645fdf…      ┆ f73dbeba…   ┆             ┆             ┆             ┆             ┆             │\n",
       "│ 228ce5500dc1 ┆ f9e4b658b20 ┆ 5           ┆ null        ┆ null        ┆ 2018-02-17  ┆ 2018-02-18  │\n",
       "│ d8e020d8d132 ┆ 1a9f2ecdecb ┆             ┆             ┆             ┆ 00:00:00    ┆ 14:36:24    │\n",
       "│ 2874b6…      ┆ b34bed03…   ┆             ┆             ┆             ┆             ┆             │\n",
       "│ e64fb393e7b3 ┆ 658677c97b3 ┆ 5           ┆ null        ┆ Recebi bem  ┆ 2017-04-21  ┆ 2017-04-21  │\n",
       "│ 2834bb789ff8 ┆ 85a9be17073 ┆             ┆             ┆ antes do    ┆ 00:00:00    ┆ 22:02:06    │\n",
       "│ bb3075…      ┆ 7859d351…   ┆             ┆             ┆ prazo esti… ┆             ┆             │\n",
       "│ f7c4243c7fe1 ┆ 8e6bfb81e28 ┆ 5           ┆ null        ┆ Parabéns    ┆ 2018-03-01  ┆ 2018-03-02  │\n",
       "│ 938f181bec41 ┆ 3fa7e4f1112 ┆             ┆             ┆ lojas       ┆ 00:00:00    ┆ 10:26:53    │\n",
       "│ a392bd…      ┆ 3a3fb894…   ┆             ┆             ┆ lannister   ┆             ┆             │\n",
       "│              ┆             ┆             ┆             ┆ adore…      ┆             ┆             │\n",
       "│ …            ┆ …           ┆ …           ┆ …           ┆ …           ┆ …           ┆ …           │\n",
       "│ 574ed12dd733 ┆ 2a8c23fee10 ┆ 5           ┆ null        ┆ null        ┆ 2018-07-07  ┆ 2018-07-14  │\n",
       "│ e5fa530cfd4b ┆ 1d4d5662fa6 ┆             ┆             ┆             ┆ 00:00:00    ┆ 17:18:30    │\n",
       "│ bf39d7…      ┆ 70396eb8…   ┆             ┆             ┆             ┆             ┆             │\n",
       "│ f3897127253a ┆ 22ec9f0669f ┆ 5           ┆ null        ┆ null        ┆ 2017-12-09  ┆ 2017-12-11  │\n",
       "│ 9592a73be9bd ┆ 784db00fa86 ┆             ┆             ┆             ┆ 00:00:00    ┆ 20:06:42    │\n",
       "│ fdf4ed…      ┆ d035cf86…   ┆             ┆             ┆             ┆             ┆             │\n",
       "│ b3de70c89b15 ┆ 55d40047443 ┆ 5           ┆ null        ┆ Excelente   ┆ 2018-03-22  ┆ 2018-03-23  │\n",
       "│ 10c4cd3d0649 ┆ 68f5571d1f5 ┆             ┆             ┆ mochila,    ┆ 00:00:00    ┆ 09:10:43    │\n",
       "│ fd3024…      ┆ 90031933…   ┆             ┆             ┆ entrega     ┆             ┆             │\n",
       "│              ┆             ┆             ┆             ┆ sup…        ┆             ┆             │\n",
       "│ 1adeb9d84d72 ┆ 7725825d039 ┆ 4           ┆ null        ┆ null        ┆ 2018-07-01  ┆ 2018-07-02  │\n",
       "│ fe4e33761773 ┆ fc1f0ceb763 ┆             ┆             ┆             ┆ 00:00:00    ┆ 12:59:13    │\n",
       "│ 3eb851…      ┆ 5e3f7d92…   ┆             ┆             ┆             ┆             ┆             │\n",
       "│ efe49f1d6f95 ┆ 90531360ecb ┆ 1           ┆ null        ┆ meu produto ┆ 2017-07-03  ┆ 2017-07-03  │\n",
       "│ 1dd88b51e6cc ┆ 1eec2a1fbb2 ┆             ┆             ┆ chegou e ja ┆ 00:00:00    ┆ 21:01:49    │\n",
       "│ d4cc54…      ┆ 65a0db05…   ┆             ┆             ┆ tenho …     ┆             ┆             │\n",
       "└──────────────┴─────────────┴─────────────┴─────────────┴─────────────┴─────────────┴─────────────┘"
      ]
     },
     "execution_count": 15,
     "metadata": {},
     "output_type": "execute_result"
    }
   ],
   "source": [
    "pl_df_origin = pl.scan_csv(\"./../datasets/olist_order_reviews_dataset.csv\")\n",
    "\n",
    "pl_df_origin = pl_df_origin.collect()\n",
    "\n",
    "pl_df = pl_df_origin.clone()\n",
    "\n",
    "pl_df"
   ]
  },
  {
   "cell_type": "code",
   "execution_count": 16,
   "id": "62745125",
   "metadata": {},
   "outputs": [
    {
     "name": "stdout",
     "output_type": "stream",
     "text": [
      "(99224, 7)\n",
      "shape: (1, 7)\n",
      "┌───────────┬──────────┬──────────────┬───────────────┬──────────────┬──────────────┬──────────────┐\n",
      "│ review_id ┆ order_id ┆ review_score ┆ review_commen ┆ review_comme ┆ review_creat ┆ review_answe │\n",
      "│ ---       ┆ ---      ┆ ---          ┆ t_title       ┆ nt_message   ┆ ion_date     ┆ r_timestamp  │\n",
      "│ u32       ┆ u32      ┆ u32          ┆ ---           ┆ ---          ┆ ---          ┆ ---          │\n",
      "│           ┆          ┆              ┆ u32           ┆ u32          ┆ u32          ┆ u32          │\n",
      "╞═══════════╪══════════╪══════════════╪═══════════════╪══════════════╪══════════════╪══════════════╡\n",
      "│ 0         ┆ 0        ┆ 0            ┆ 87656         ┆ 58247        ┆ 0            ┆ 0            │\n",
      "└───────────┴──────────┴──────────────┴───────────────┴──────────────┴──────────────┴──────────────┘\n",
      "5\n",
      "1\n",
      "shape: (1, 7)\n",
      "┌───────────┬──────────┬──────────────┬───────────────┬──────────────┬──────────────┬──────────────┐\n",
      "│ review_id ┆ order_id ┆ review_score ┆ review_commen ┆ review_comme ┆ review_creat ┆ review_answe │\n",
      "│ ---       ┆ ---      ┆ ---          ┆ t_title       ┆ nt_message   ┆ ion_date     ┆ r_timestamp  │\n",
      "│ u32       ┆ u32      ┆ u32          ┆ ---           ┆ ---          ┆ ---          ┆ ---          │\n",
      "│           ┆          ┆              ┆ u32           ┆ u32          ┆ u32          ┆ u32          │\n",
      "╞═══════════╪══════════╪══════════════╪═══════════════╪══════════════╪══════════════╪══════════════╡\n",
      "│ 0         ┆ 0        ┆ 0            ┆ 0             ┆ 0            ┆ 0            ┆ 0            │\n",
      "└───────────┴──────────┴──────────────┴───────────────┴──────────────┴──────────────┴──────────────┘\n",
      "Schema([('review_id', String), ('order_id', String), ('review_score', Int64), ('review_comment_title', String), ('review_comment_message', String), ('review_creation_date', Datetime(time_unit='us', time_zone=None)), ('review_answer_timestamp', Datetime(time_unit='us', time_zone=None))])\n"
     ]
    },
    {
     "data": {
      "text/html": [
       "<div><style>\n",
       ".dataframe > thead > tr,\n",
       ".dataframe > tbody > tr {\n",
       "  text-align: right;\n",
       "  white-space: pre-wrap;\n",
       "}\n",
       "</style>\n",
       "<small>shape: (5, 7)</small><table border=\"1\" class=\"dataframe\"><thead><tr><th>review_id</th><th>order_id</th><th>review_score</th><th>review_comment_title</th><th>review_comment_message</th><th>review_creation_date</th><th>review_answer_timestamp</th></tr><tr><td>str</td><td>str</td><td>i64</td><td>str</td><td>str</td><td>datetime[μs]</td><td>datetime[μs]</td></tr></thead><tbody><tr><td>&quot;7bc2406110b926393aa56f80a40eba…</td><td>&quot;73fc7af87114b39712e6da79b0a377…</td><td>4</td><td>&quot;no title&quot;</td><td>&quot;no comment&quot;</td><td>2018-01-18 00:00:00</td><td>2018-01-18 21:46:59</td></tr><tr><td>&quot;80e641a11e56f04c1ad469d5645fdf…</td><td>&quot;a548910a1c6147796b98fdf73dbeba…</td><td>5</td><td>&quot;no title&quot;</td><td>&quot;no comment&quot;</td><td>2018-03-10 00:00:00</td><td>2018-03-11 03:05:13</td></tr><tr><td>&quot;228ce5500dc1d8e020d8d1322874b6…</td><td>&quot;f9e4b658b201a9f2ecdecbb34bed03…</td><td>5</td><td>&quot;no title&quot;</td><td>&quot;no comment&quot;</td><td>2018-02-17 00:00:00</td><td>2018-02-18 14:36:24</td></tr><tr><td>&quot;e64fb393e7b32834bb789ff8bb3075…</td><td>&quot;658677c97b385a9be170737859d351…</td><td>5</td><td>&quot;no title&quot;</td><td>&quot;Recebi bem antes do prazo esti…</td><td>2017-04-21 00:00:00</td><td>2017-04-21 22:02:06</td></tr><tr><td>&quot;f7c4243c7fe1938f181bec41a392bd…</td><td>&quot;8e6bfb81e283fa7e4f11123a3fb894…</td><td>5</td><td>&quot;no title&quot;</td><td>&quot;Parabéns lojas lannister adore…</td><td>2018-03-01 00:00:00</td><td>2018-03-02 10:26:53</td></tr></tbody></table></div>"
      ],
      "text/plain": [
       "shape: (5, 7)\n",
       "┌──────────────┬─────────────┬─────────────┬─────────────┬─────────────┬─────────────┬─────────────┐\n",
       "│ review_id    ┆ order_id    ┆ review_scor ┆ review_comm ┆ review_comm ┆ review_crea ┆ review_answ │\n",
       "│ ---          ┆ ---         ┆ e           ┆ ent_title   ┆ ent_message ┆ tion_date   ┆ er_timestam │\n",
       "│ str          ┆ str         ┆ ---         ┆ ---         ┆ ---         ┆ ---         ┆ p           │\n",
       "│              ┆             ┆ i64         ┆ str         ┆ str         ┆ datetime[μs ┆ ---         │\n",
       "│              ┆             ┆             ┆             ┆             ┆ ]           ┆ datetime[μs │\n",
       "│              ┆             ┆             ┆             ┆             ┆             ┆ ]           │\n",
       "╞══════════════╪═════════════╪═════════════╪═════════════╪═════════════╪═════════════╪═════════════╡\n",
       "│ 7bc2406110b9 ┆ 73fc7af8711 ┆ 4           ┆ no title    ┆ no comment  ┆ 2018-01-18  ┆ 2018-01-18  │\n",
       "│ 26393aa56f80 ┆ 4b39712e6da ┆             ┆             ┆             ┆ 00:00:00    ┆ 21:46:59    │\n",
       "│ a40eba…      ┆ 79b0a377…   ┆             ┆             ┆             ┆             ┆             │\n",
       "│ 80e641a11e56 ┆ a548910a1c6 ┆ 5           ┆ no title    ┆ no comment  ┆ 2018-03-10  ┆ 2018-03-11  │\n",
       "│ f04c1ad469d5 ┆ 147796b98fd ┆             ┆             ┆             ┆ 00:00:00    ┆ 03:05:13    │\n",
       "│ 645fdf…      ┆ f73dbeba…   ┆             ┆             ┆             ┆             ┆             │\n",
       "│ 228ce5500dc1 ┆ f9e4b658b20 ┆ 5           ┆ no title    ┆ no comment  ┆ 2018-02-17  ┆ 2018-02-18  │\n",
       "│ d8e020d8d132 ┆ 1a9f2ecdecb ┆             ┆             ┆             ┆ 00:00:00    ┆ 14:36:24    │\n",
       "│ 2874b6…      ┆ b34bed03…   ┆             ┆             ┆             ┆             ┆             │\n",
       "│ e64fb393e7b3 ┆ 658677c97b3 ┆ 5           ┆ no title    ┆ Recebi bem  ┆ 2017-04-21  ┆ 2017-04-21  │\n",
       "│ 2834bb789ff8 ┆ 85a9be17073 ┆             ┆             ┆ antes do    ┆ 00:00:00    ┆ 22:02:06    │\n",
       "│ bb3075…      ┆ 7859d351…   ┆             ┆             ┆ prazo esti… ┆             ┆             │\n",
       "│ f7c4243c7fe1 ┆ 8e6bfb81e28 ┆ 5           ┆ no title    ┆ Parabéns    ┆ 2018-03-01  ┆ 2018-03-02  │\n",
       "│ 938f181bec41 ┆ 3fa7e4f1112 ┆             ┆             ┆ lojas       ┆ 00:00:00    ┆ 10:26:53    │\n",
       "│ a392bd…      ┆ 3a3fb894…   ┆             ┆             ┆ lannister   ┆             ┆             │\n",
       "│              ┆             ┆             ┆             ┆ adore…      ┆             ┆             │\n",
       "└──────────────┴─────────────┴─────────────┴─────────────┴─────────────┴─────────────┴─────────────┘"
      ]
     },
     "execution_count": 16,
     "metadata": {},
     "output_type": "execute_result"
    }
   ],
   "source": [
    "# primer análisis del df\n",
    "print(pl_df.shape)\n",
    "\n",
    "print(pl_df.null_count())\n",
    "\n",
    "print(pl_df['review_score'].max())\n",
    "print(pl_df['review_score'].min())\n",
    "pl_df.schema\n",
    "\n",
    "# La mayoría de registros no tienen título o comentario en su review, pero sí han indicado la puntuación del 1 al 5,\n",
    "#  por lo que puedo obtener igualmente información de esos registros\n",
    "\n",
    "# Convertir a datetime las últimas dos columnas con el formato que siguens\n",
    "pl_df = pl_df.with_columns([\n",
    "    pl.col(\"review_creation_date\").str.strptime(pl.Datetime, \"%Y-%m-%d %H:%M:%S\"),\n",
    "    pl.col(\"review_answer_timestamp\").str.strptime(pl.Datetime, \"%Y-%m-%d %H:%M:%S\")\n",
    "])\n",
    "\n",
    "# Los nulos de titulos y comentarios los paso a \"no title\" y \"no comment\" y ya tendría el df limpio\n",
    "pl_df = pl_df.with_columns([\n",
    "    pl.col(\"review_comment_title\").fill_null(\"no title\"),\n",
    "    pl.col(\"review_comment_message\").fill_null(\"no comment\")\n",
    "])\n",
    "\n",
    "print(pl_df.null_count())\n",
    "\n",
    "print(pl_df.schema)\n",
    "\n",
    "pl_df.head(5)"
   ]
  },
  {
   "cell_type": "code",
   "execution_count": 17,
   "id": "4d1d08ae",
   "metadata": {},
   "outputs": [],
   "source": [
    "#Ahora voy a poner tanto review_comment_title como review_comment_message en minúsculas\n",
    "\n",
    "\n",
    "#Estoy trabajando con polars y quiero un pipeline para limpiar y normalizar los datos\n",
    "#Quiero que reciba un df de polars y lo devuelva limpio con todo lo que te voy a pedir:\n",
    "#1. Eliminar espacios del título del campo y sustituirlo por _\n",
    "#2. Eliminar dobles espacios y espacios en blanco al principio y al final, tanto en los nombres d elos campos como en \n",
    "#3. Poner todos los string en mayúsculas o minúsculas (esto lo recibirá por parámetros a qué ponerlo, si mayúsculas o minusculas)\n",
    "#4. Por parámetro también: detectar todas las tildes y quitarlas, es decir, poner esa vocal sin tilde ni nada (tanto los nombres de campo como los valores de los campos que tengan texto)\n",
    "#\n",
    "\n",
    "#Todo esto hazlo en varias funciones, es decir, una función a tipo de contrlador por el que va pasando y controlando todo lo que ha entrado por parámetro y funciones para las tareas especificas\n",
    "# Una función quiero que se centre en los nombres de los campos: quitar espacios al principio y al final, quitar dobles espacios, quitar espacios normales y sustituirlos por _, quitar tildes y poner en minúscula o mayuscula todo (parámetros separados el nombre del campo en mahyus o minus y el valor de los campos)\n",
    "# Estos campos serán dos json, uno que hace referencia aal nombre de los campos (fields_name_params) y otro que hace referencia a los campos (values_params)"
   ]
  },
  {
   "cell_type": "code",
   "execution_count": 18,
   "id": "50a910f1",
   "metadata": {},
   "outputs": [],
   "source": [
    "#Descargo el csv limpio\n",
    "pl_df.write_csv(\"./output/olist_order_reviews_dataset_clean.csv\")\n"
   ]
  }
 ],
 "metadata": {
  "kernelspec": {
   "display_name": "tema-01",
   "language": "python",
   "name": "python3"
  },
  "language_info": {
   "codemirror_mode": {
    "name": "ipython",
    "version": 3
   },
   "file_extension": ".py",
   "mimetype": "text/x-python",
   "name": "python",
   "nbconvert_exporter": "python",
   "pygments_lexer": "ipython3",
   "version": "3.11.9"
  }
 },
 "nbformat": 4,
 "nbformat_minor": 5
}
